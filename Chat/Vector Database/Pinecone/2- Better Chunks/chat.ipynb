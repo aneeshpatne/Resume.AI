{
 "cells": [
  {
   "cell_type": "code",
   "execution_count": 42,
   "metadata": {},
   "outputs": [],
   "source": [
    "from openai import OpenAI\n",
    "from pinecone import Pinecone\n",
    "import os\n",
    "from sentence_transformers import SentenceTransformer\n",
    "from dotenv import load_dotenv\n",
    "from collections import defaultdict\n"
   ]
  },
  {
   "cell_type": "code",
   "execution_count": 12,
   "metadata": {},
   "outputs": [],
   "source": [
    "pc = Pinecone(os.getenv(\"PINECONE_KEY\"))\n",
    "index = pc.Index(\"resume-index-full\")"
   ]
  },
  {
   "cell_type": "code",
   "execution_count": 7,
   "metadata": {},
   "outputs": [],
   "source": [
    "model = SentenceTransformer('all-MiniLM-L6-v2')"
   ]
  },
  {
   "cell_type": "code",
   "execution_count": 83,
   "metadata": {},
   "outputs": [],
   "source": [
    "client = OpenAI(\n",
    "    base_url='http://localhost:11434/v1',\n",
    "    api_key='ollama'\n",
    ")"
   ]
  },
  {
   "cell_type": "code",
   "execution_count": 102,
   "metadata": {},
   "outputs": [],
   "source": [
    "def LLM_chatbot(user_messsage, developer_message):\n",
    "    try:\n",
    "        response_stream = client.chat.completions.create(\n",
    "            model=\"mistral:latest\",\n",
    "            messages=[\n",
    "                developer_message,\n",
    "                user_messsage\n",
    "            ],\n",
    "            stream=True\n",
    "        )\n",
    "\n",
    "        for chunk in response_stream:\n",
    "            if chunk.choices and len(chunk.choices) > 0:\n",
    "                delta = chunk.choices[0].delta\n",
    "                if delta and delta.content:\n",
    "                    print(delta.content, end=\"\", flush=True)\n",
    "\n",
    "    except Exception as e:\n",
    "        print(e)\n"
   ]
  },
  {
   "cell_type": "code",
   "execution_count": 116,
   "metadata": {},
   "outputs": [],
   "source": [
    "from collections import defaultdict\n",
    "\n",
    "def query_to_chat(query):\n",
    "\n",
    "    embedded_query = model.encode(query).tolist()\n",
    "    retrieved_chunks = index.query(\n",
    "        vector=embedded_query,\n",
    "        top_k=3, \n",
    "        include_metadata=True\n",
    "    )\n",
    "\n",
    "    prompt_header = (\n",
    "        \"You are a resume assistant chatbot for Aneesh Patne. Using the following information from the resume:\\n\\n\"\n",
    "    )\n",
    "\n",
    "\n",
    "    dic = defaultdict(list)\n",
    "    for match in retrieved_chunks.matches:\n",
    "        section = match.metadata.get('section', 'Unknown Section')\n",
    "        text = match.metadata.get('text', '')\n",
    "        dic[section].append(text)\n",
    "\n",
    "\n",
    "    chunks_text = \"\"\n",
    "    for section, texts in dic.items():\n",
    "        chunks_text += f\"{section}:\\n\"\n",
    "        for text in texts:\n",
    "            chunks_text += f\"{text}\\n\\n\"\n",
    "\n",
    "    prompt_footer = (\n",
    "        f\"Answer the following question based on all the provided information from the resume above:\\n\\\"{query}\\\"\\n\\n\"\n",
    "        \"Please provide a detailed, relevant, and professional response using all available context.\"\n",
    "    )\n",
    "\n",
    "  \n",
    "    prompt = prompt_header + chunks_text + prompt_footer\n",
    "\n",
    "\n",
    "    user_message = {\"role\": \"user\", \"content\": prompt}\n",
    "    developer_message = {\n",
    "        \"role\": \"system\",\n",
    "        \"content\": (\n",
    "            \"You are a professional Resume Assistant bot that communicates on behalf of the candidate using Retrieval-Augmented Generation (RAG). \"\n",
    "            \"Your task is to answer questions, provide clarifications, or engage in dialogue based solely on the resume data provided. \"\n",
    "            \"Do not invent information that is not present in the resume. Thoroughly review all provided context to offer the best possible, \"\n",
    "            \"detailed, and accurate answer. Maintain a formal yet approachable tone suitable for professional interactions.\"\n",
    "        )\n",
    "    }\n",
    "\n",
    "    LLM_chatbot(user_message, developer_message)\n"
   ]
  },
  {
   "cell_type": "code",
   "execution_count": 117,
   "metadata": {},
   "outputs": [
    {
     "name": "stdout",
     "output_type": "stream",
     "text": [
      " Certainly! Here is a list of projects that Aneesh Patne has worked on:\n",
      "\n",
      "1. Socio-Economic Impact of Pollution on Life Expectancy: This is an ongoing machine learning project that analyzes the impact of air pollution on life expectancy while considering multiple socio-economic parameters. Technologies used for this project include Google Vertex AI, SvelteKit, Express, and Machine Learning (not specified). The project started in January 2024 and is still active. Tagged as a machine learning, data analysis, and sustainability project.\n",
      "\n",
      "2. Personal Chatbot: Aneesh developed an interactive chatbot during the period of March 2023 to June 2023. This personal chatbot was created using Python, GPT-3, Flask, and FAISS. The chatbot aims to provide accurate, context-specific replies based on Retrieval-Augmented Generation (RAG). Tagged as a project under AI, chatbot, language processing, and web development."
     ]
    }
   ],
   "source": [
    "query = 'Can you list All the Projects you have worked on?'\n",
    "query_to_chat(query)"
   ]
  }
 ],
 "metadata": {
  "kernelspec": {
   "display_name": ".venv",
   "language": "python",
   "name": "python3"
  },
  "language_info": {
   "codemirror_mode": {
    "name": "ipython",
    "version": 3
   },
   "file_extension": ".py",
   "mimetype": "text/x-python",
   "name": "python",
   "nbconvert_exporter": "python",
   "pygments_lexer": "ipython3",
   "version": "3.12.0"
  }
 },
 "nbformat": 4,
 "nbformat_minor": 2
}
