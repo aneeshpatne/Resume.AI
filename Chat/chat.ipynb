{
 "cells": [
  {
   "cell_type": "code",
   "execution_count": 1,
   "metadata": {},
   "outputs": [
    {
     "name": "stderr",
     "output_type": "stream",
     "text": [
      "c:\\Users\\anees\\Desktop\\Coding\\llmrepo\\train-LLAMA\\.venv\\Lib\\site-packages\\pinecone\\data\\index.py:1: TqdmWarning: IProgress not found. Please update jupyter and ipywidgets. See https://ipywidgets.readthedocs.io/en/stable/user_install.html\n",
      "  from tqdm.autonotebook import tqdm\n"
     ]
    }
   ],
   "source": [
    "from openai import OpenAI\n",
    "from pinecone import Pinecone\n",
    "from dotenv import load_dotenv\n",
    "from sentence_transformers import SentenceTransformer\n",
    "import os\n"
   ]
  },
  {
   "cell_type": "code",
   "execution_count": 2,
   "metadata": {},
   "outputs": [
    {
     "data": {
      "text/plain": [
       "True"
      ]
     },
     "execution_count": 2,
     "metadata": {},
     "output_type": "execute_result"
    }
   ],
   "source": [
    "load_dotenv()"
   ]
  },
  {
   "cell_type": "code",
   "execution_count": 3,
   "metadata": {},
   "outputs": [],
   "source": [
    "pc = Pinecone(os.getenv(\"PINECONE_KEY\"))"
   ]
  },
  {
   "cell_type": "code",
   "execution_count": 4,
   "metadata": {},
   "outputs": [],
   "source": [
    "client = OpenAI(\n",
    "    base_url='http://localhost:11434/v1',\n",
    "    api_key='ollama'\n",
    ")"
   ]
  },
  {
   "cell_type": "code",
   "execution_count": 5,
   "metadata": {},
   "outputs": [],
   "source": [
    "model = SentenceTransformer('all-MiniLM-L6-v2')"
   ]
  },
  {
   "cell_type": "code",
   "execution_count": 7,
   "metadata": {},
   "outputs": [],
   "source": [
    "def embed_input(input_text):\n",
    "    return model.encode(input_text).tolist()"
   ]
  },
  {
   "cell_type": "code",
   "execution_count": 23,
   "metadata": {},
   "outputs": [
    {
     "name": "stdout",
     "output_type": "stream",
     "text": [
      "[-0.0707567110657692, 0.06581093370914459, -0.045117661356925964, -0.00204282789491117, -0.10098598152399063, 0.040134962648153305, 0.1337764412164688, -0.04283968359231949, -0.002322412794455886, 0.08056382834911346, 0.024703649803996086, -0.12464013695716858, 0.01958180032670498, -0.03169500082731247, -0.09184026718139648, 0.05348376929759979, -0.011786093935370445, -0.11373955011367798, -0.021035127341747284, -0.12792934477329254, -0.11866891384124756, 0.02679341286420822, -0.005795611068606377, -0.014591677114367485, -0.05919959768652916, -0.03437770903110504, -0.042153581976890564, -0.037528567016124725, -0.012216174975037575, -0.05240365490317345, -0.008944762870669365, -0.009397557005286217, 0.045220136642456055, 0.04808253049850464, 0.022381354123353958, 0.10404099524021149, 0.08397827297449112, 0.06523140519857407, -0.06933518499135971, 0.04976838454604149, 0.007597016170620918, -0.039258264005184174, -0.00198427215218544, -0.045884184539318085, -0.013882546685636044, 0.023940064013004303, -0.0185552891343832, -0.023183949291706085, 0.0428268238902092, -0.004613327793776989, 0.02443397417664528, 0.05198420584201813, 0.01668846420943737, -0.046245601028203964, 0.0006469698273576796, -0.020716404542326927, 0.016628148034214973, 0.013734242878854275, -0.0772438496351242, -0.029878418892621994, 0.03257672116160393, 0.027174929156899452, -0.031078355386853218, 0.05405107140541077, -0.034132301807403564, -0.03381237015128136, 0.032728154212236404, -0.07257664203643799, -0.09808699786663055, -0.00594715541228652, 0.028071295469999313, -0.08415241539478302, 0.05222075432538986, -0.020755592733621597, 0.012120981700718403, -0.04954110085964203, 0.06230759620666504, 0.0015014983946457505, 0.01928737945854664, -0.014845714904367924, -0.01732783578336239, -0.09134893119335175, 0.03129908815026283, 0.009754383005201817, -0.02897055633366108, 0.014529692009091377, -0.013125056400895119, -0.011072980239987373, -0.0130945248529315, -0.024449752643704414, -0.08316667377948761, -0.027295764535665512, 0.05105476453900337, -0.009131582453846931, 0.02957092970609665, 0.022217029705643654, -0.05631457641720772, 0.010410810820758343, -0.12249332666397095, 0.07413636893033981, -0.040397126227617264, 0.058891888707876205, 0.011577342636883259, 0.05804435908794403, -0.011290832422673702, 0.005976999178528786, -0.0700978934764862, -0.008428912609815598, 0.08309491723775864, -0.007967371493577957, -0.006726529914885759, -0.031908344477415085, 0.00745271984487772, -0.005864402744919062, 0.12030864506959915, 0.06252401322126389, -0.053736522793769836, 0.029128223657608032, -0.025325369089841843, -0.06597339361906052, 0.03974882885813713, 0.03217095136642456, -0.050486352294683456, 0.1447020173072815, 0.0014732028357684612, 0.0455547459423542, -0.05443046987056732, -5.803179409113515e-33, 0.029892239719629288, 0.06092476844787598, 0.08310719579458237, -0.013768748380243778, -0.020159659907221794, -0.003943842835724354, -0.025883469730615616, 0.0357615202665329, -0.014684244990348816, -0.08032746613025665, 0.0017361014615744352, -0.05710342898964882, -0.04677761346101761, -0.021571531891822815, 0.022361919283866882, -0.018095804378390312, -0.01995130069553852, -0.013222793117165565, -0.01301869098097086, 0.005263201426714659, -0.027692992240190506, 0.04246266558766365, -0.0034693172201514244, -0.019601324573159218, 0.07193626463413239, -0.05286940932273865, 0.012420929968357086, -0.006234459578990936, 0.020672298967838287, 0.03719082847237587, -0.019629014655947685, 0.03904883563518524, -0.08954577893018723, -0.025551635771989822, -0.05119484290480614, -0.03882167115807533, -0.02200690098106861, -0.035291045904159546, 0.0016162964748218656, -0.0017586237518116832, -0.01539931446313858, 0.00889989361166954, 0.04855988547205925, -0.02311674691736698, -0.06206018850207329, 0.04931935295462608, 0.009857447817921638, -0.0458613783121109, 0.08429218828678131, 0.030073929578065872, -0.02692725881934166, -0.026092594489455223, 0.02005530521273613, -0.04401085525751114, -0.03633379191160202, -0.03876277431845665, -0.032131850719451904, 0.04214745759963989, 0.05222339183092117, 0.06645148992538452, 0.031328219920396805, 0.04080821946263313, -0.02612060122191906, 0.007026626728475094, -0.0788172110915184, -0.052755873650312424, 0.04241793602705002, 0.003955135587602854, -0.0072821760550141335, -0.008964785374701023, -0.041990555822849274, -0.03350919485092163, 0.12581025063991547, 0.03658495470881462, -0.02491133101284504, -0.010754148475825787, 0.05018062889575958, 0.005184400361031294, -0.02682913839817047, -0.02677098475396633, -0.030025651678442955, 0.024433128535747528, 0.006138578988611698, 0.006384590175002813, -0.037063006311655045, -0.02291005477309227, 0.051760636270046234, 0.015325519256293774, 0.04994160309433937, -0.06780484318733215, 0.012547411024570465, 0.005841272883117199, 0.032902076840400696, -0.07168377935886383, -0.060129616409540176, 2.461322989135655e-33, -0.027825845405459404, 0.0172733087092638, -0.09830912202596664, -0.01593712531030178, 0.09840698540210724, -0.0027143550105392933, 0.0923701822757721, 0.16443614661693573, -0.026494426652789116, -0.09088315069675446, -0.052586961537599564, 0.0070371562615036964, 0.022167863324284554, -0.09538733214139938, 0.07609061151742935, 0.03394775465130806, 0.11218243092298508, 0.04385405033826828, -0.021610908210277557, -0.018849940970540047, -0.011771775782108307, -0.02669304609298706, -0.022342488169670105, -0.023870320990681648, -0.014106177724897861, 0.031459543853998184, 0.016186650842428207, -0.016291357576847076, -0.023326450958848, 0.024439074099063873, -0.0004226421588100493, 0.044519100338220596, -0.08067362010478973, -0.046777188777923584, -0.018121449276804924, 0.05038917437195778, -0.055587854236364365, 0.0034013160038739443, -0.04630609601736069, -0.025884373113512993, 0.03736764192581177, 0.016227897256612778, -0.018201468512415886, 0.09825071692466736, 0.05484170466661453, 0.08531792461872101, -0.08896179497241974, 0.13491423428058624, -0.04823163524270058, -0.049868352711200714, -0.08499926328659058, -0.010737255215644836, 0.1261470764875412, -0.028896285220980644, 0.011522197164595127, 0.033801764249801636, -0.052113715559244156, -0.007905258797109127, -0.0183530505746603, 0.029934851452708244, 0.038482073694467545, -0.0005436412757262588, 0.009855599142611027, 0.09568498283624649, -0.08859089761972427, -0.07347303628921509, -0.052255433052778244, -0.06033695116639137, -0.021585922688245773, -0.005410716403275728, 0.044918108731508255, -0.021574709564447403, -0.07308674603700638, 0.02473743073642254, -0.013958283700048923, -0.05344315618276596, -0.022232310846447945, -0.0810520201921463, 0.018255263566970825, -0.013396740891039371, -0.05875197425484657, 0.0807657390832901, 0.021069010719656944, 0.0670846700668335, 0.013990034349262714, -0.006750288885086775, 0.08803286403417587, 0.0006299265660345554, 0.07865539193153381, -0.016428805887699127, 0.06457316875457764, 0.046554818749427795, -0.023974953219294548, -0.015327146276831627, -0.009414615109562874, -1.5298192934665167e-08, 0.06562186032533646, -0.04386872798204422, 0.07235903292894363, -0.08825024217367172, 0.036057665944099426, 0.01223706640303135, 0.09221599251031876, -0.027848156169056892, 0.005561357829719782, -0.036905162036418915, -0.004622777458280325, 0.02533232420682907, 0.07971484214067459, 0.019051460549235344, 0.017885049805045128, -0.0006594291189685464, 0.05286034196615219, 0.03361921384930611, -0.006974026560783386, 0.05962913855910301, -0.0009902049787342548, 0.018653351813554764, 0.0039444067515432835, -0.10646162182092667, -0.016774624586105347, 0.08283212780952454, -0.0038954729679971933, -0.04643634706735611, -0.0407886765897274, 0.048952292650938034, 0.008546929806470871, 0.07388259470462799, -0.04359229654073715, -0.0030655900482088327, 0.04467019438743591, 0.006774359382688999, 0.036192886531353, 0.012514959089457989, 0.0025918215978890657, -0.0850338488817215, -0.020793471485376358, 0.09373554587364197, 0.12933138012886047, 0.06761740893125534, 0.05619899928569794, 0.009763192385435104, 0.03903527557849884, -0.048247355967760086, 0.06278704106807709, -0.003335283836349845, -0.03669509291648865, 0.01960134133696556, 0.0072230068035423756, 0.006636024918407202, 0.001932789571583271, -0.17378918826580048, -0.0765833854675293, -0.041596248745918274, 0.016415134072303772, -0.0838121846318245, 0.10515636205673218, -0.007012196350842714, 0.04840680584311485, -0.01468614861369133]\n"
     ]
    }
   ],
   "source": [
    "query = \"Who is Aneesh ?\"\n",
    "query_embedding = embed_input(query)\n",
    "print(query_embedding)"
   ]
  },
  {
   "cell_type": "code",
   "execution_count": 24,
   "metadata": {},
   "outputs": [],
   "source": [
    "index = pc.Index(\"rag-resume-data\")"
   ]
  },
  {
   "cell_type": "code",
   "execution_count": 10,
   "metadata": {},
   "outputs": [],
   "source": [
    "def revelant_data(query_embedding):\n",
    "    return index.query(vector=query_embedding, top_k=5, include_metadata=True)"
   ]
  },
  {
   "cell_type": "code",
   "execution_count": 25,
   "metadata": {},
   "outputs": [
    {
     "data": {
      "text/plain": [
       "{'matches': [{'id': 'doc-1',\n",
       "              'metadata': {'prefix': 'contact.name', 'text': 'Aneesh Patne'},\n",
       "              'score': 0.640817344,\n",
       "              'values': []},\n",
       "             {'id': 'doc-5',\n",
       "              'metadata': {'prefix': 'contact.leetcode',\n",
       "                           'text': 'https://leetcode.com/aneeshpatne'},\n",
       "              'score': 0.521952271,\n",
       "              'values': []},\n",
       "             {'id': 'doc-4',\n",
       "              'metadata': {'prefix': 'contact.github',\n",
       "                           'text': 'https://github.com/aneeshpatne'},\n",
       "              'score': 0.479536831,\n",
       "              'values': []},\n",
       "             {'id': 'doc-3',\n",
       "              'metadata': {'prefix': 'contact.linkedin',\n",
       "                           'text': 'https://www.linkedin.com/in/aneeshpatne'},\n",
       "              'score': 0.433732748,\n",
       "              'values': []},\n",
       "             {'id': 'doc-2',\n",
       "              'metadata': {'prefix': 'contact.email',\n",
       "                           'text': 'aneeshpatne12@gmail.com'},\n",
       "              'score': 0.340317965,\n",
       "              'values': []}],\n",
       " 'namespace': '',\n",
       " 'usage': {'read_units': 6}}"
      ]
     },
     "execution_count": 25,
     "metadata": {},
     "output_type": "execute_result"
    }
   ],
   "source": [
    "context = revelant_data(query_embedding)\n",
    "context"
   ]
  },
  {
   "cell_type": "code",
   "execution_count": 26,
   "metadata": {},
   "outputs": [],
   "source": [
    "word_limit = 100  # Adjust as needed\n",
    "\n",
    "prompt = f'''\n",
    "You are a professional Resume Assistant bot that communicates on behalf of the candidate, using the resume data provided via Retrieval-Augmented Generation (RAG). Your task is to answer questions, provide clarifications, or engage in dialogue with users (such as potential employers or recruiters) based on the resume context. Maintain a formal yet approachable tone suitable for professional interactions.\n",
    "\n",
    "**Resume Context:**\n",
    "{context}\n",
    "\n",
    "**Instructions:**\n",
    "1. Base all responses strictly on the resume context provided.\n",
    "2. Focus only on information relevant to the query, and ignore any extraneous or unrelated details.\n",
    "3. Tailor your communication for professional scenarios—whether responding to recruiter inquiries or discussing qualifications with a company.\n",
    "4. Use clear, concise language to highlight the candidate's skills, experience, and achievements as they pertain to the question at hand.\n",
    "5. Avoid fabricating details; if relevant information is missing, politely request more specifics.\n",
    "6. Keep responses within {word_limit} words and format them in well-structured paragraphs.\n",
    "\n",
    "**Interaction Scenario:**\n",
    "{query}\n",
    "\n",
    "**Output:**\n",
    "Generate a response that addresses the query using only the relevant parts of the resume context. Emphasize applicable skills, experiences, and achievements, and structure your answer professionally. Highlight measurable results and specific skills where possible.\n",
    "\n",
    "**Fallback:**\n",
    "If the resume context lacks sufficient information for a comprehensive response, reply with:\n",
    "\"I need more specific details to tailor the response effectively. Could you provide more information about [specific detail, e.g., the job role, required skills]?\"\n",
    "'''\n"
   ]
  },
  {
   "cell_type": "code",
   "execution_count": 28,
   "metadata": {},
   "outputs": [],
   "source": [
    "developer_message = {\n",
    "    \"role\": \"developer\",\n",
    "    \"content\":(\n",
    "        \"You are a professional Resume Assistant bot that communicates on behalf of the candidate, \"\n",
    "        \"using the resume data provided via Retrieval-Augmented Generation (RAG). Your task is \"\n",
    "        \"to answer questions, provide clarifications, or engage in dialogue with users (such as \"\n",
    "        \"potential employers or recruiters) based on the resume context. Maintain a formal yet \"\n",
    "        \"approachable tone suitable for professional interactions.\"\n",
    "    )\n",
    "}"
   ]
  },
  {
   "cell_type": "code",
   "execution_count": 30,
   "metadata": {},
   "outputs": [],
   "source": [
    "user_message = {\n",
    "    \"role\": \"user\",\n",
    "    \"content\": prompt\n",
    "}"
   ]
  },
  {
   "cell_type": "code",
   "execution_count": 31,
   "metadata": {},
   "outputs": [
    {
     "name": "stdout",
     "output_type": "stream",
     "text": [
      "Error code: 400 - {'error': {'message': 'invalid message content type: map[string]interface {}', 'type': 'invalid_request_error', 'param': None, 'code': None}}\n"
     ]
    }
   ],
   "source": [
    "try:\n",
    "    response_stream = client.chat.completions.create(\n",
    "        model=\"mistral:latest\",\n",
    "        messages=[\n",
    "            developer_message,\n",
    "            user_message\n",
    "        ],\n",
    "        stream=True\n",
    "    )\n",
    "\n",
    "    for chunk in response_stream:\n",
    "        if chunk.choices and len(chunk.choices) > 0:\n",
    "            delta = chunk.choices[0].delta\n",
    "            if delta and delta.content:\n",
    "                print(delta.content, end=\"\", flush=True)\n",
    "\n",
    "except Exception as e:\n",
    "    print(e)\n"
   ]
  }
 ],
 "metadata": {
  "kernelspec": {
   "display_name": ".venv",
   "language": "python",
   "name": "python3"
  },
  "language_info": {
   "codemirror_mode": {
    "name": "ipython",
    "version": 3
   },
   "file_extension": ".py",
   "mimetype": "text/x-python",
   "name": "python",
   "nbconvert_exporter": "python",
   "pygments_lexer": "ipython3",
   "version": "3.12.0"
  }
 },
 "nbformat": 4,
 "nbformat_minor": 2
}
