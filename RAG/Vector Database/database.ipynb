{
 "cells": [
  {
   "cell_type": "code",
   "execution_count": 1,
   "metadata": {},
   "outputs": [
    {
     "name": "stderr",
     "output_type": "stream",
     "text": [
      "c:\\Users\\anees\\Desktop\\Coding\\llmrepo\\train-LLAMA\\.venv\\Lib\\site-packages\\pinecone\\data\\index.py:1: TqdmWarning: IProgress not found. Please update jupyter and ipywidgets. See https://ipywidgets.readthedocs.io/en/stable/user_install.html\n",
      "  from tqdm.autonotebook import tqdm\n"
     ]
    }
   ],
   "source": [
    "from pinecone import Pinecone, ServerlessSpec\n",
    "from sentence_transformers import SentenceTransformer\n",
    "import json\n",
    "from dotenv import load_dotenv\n",
    "import os\n"
   ]
  },
  {
   "cell_type": "code",
   "execution_count": null,
   "metadata": {},
   "outputs": [],
   "source": [
    "load_dotenv()"
   ]
  },
  {
   "cell_type": "code",
   "execution_count": 3,
   "metadata": {},
   "outputs": [],
   "source": [
    "pc = Pinecone(api_key=os.getenv(\"PINECONE_KEY\"))"
   ]
  },
  {
   "cell_type": "code",
   "execution_count": 4,
   "metadata": {},
   "outputs": [],
   "source": [
    "with open(\"data.json\", \"r\") as file:\n",
    "    data = json.load(file)\n"
   ]
  },
  {
   "cell_type": "code",
   "execution_count": 5,
   "metadata": {},
   "outputs": [],
   "source": [
    "def collect_data(data, key_filter=None, prefix=\"\"):\n",
    "    collected_data = []\n",
    "\n",
    "    if isinstance(data, dict): \n",
    "        for key, value in data.items():\n",
    "            new_prefix = f\"{prefix}.{key}\" if prefix else key \n",
    "            if key_filter is None or key in key_filter:\n",
    "                if isinstance(value, str):  \n",
    "                    collected_data.append((new_prefix, value))\n",
    "                elif isinstance(value, (dict, list)): \n",
    "                    collected_data.extend(collect_data(value, key_filter, new_prefix))\n",
    "            elif isinstance(value, (dict, list)):\n",
    "                collected_data.extend(collect_data(value, key_filter, new_prefix))\n",
    "    elif isinstance(data, list):  \n",
    "        for i, item in enumerate(data):\n",
    "            new_prefix = f\"{prefix}[{i}]\"  \n",
    "            collected_data.extend(collect_data(item, key_filter, new_prefix))\n",
    "    elif isinstance(data, str): \n",
    "        collected_data.append((prefix, data))\n",
    "\n",
    "    return collected_data\n",
    "collected_data = collect_data(data)\n"
   ]
  },
  {
   "cell_type": "code",
   "execution_count": 6,
   "metadata": {},
   "outputs": [],
   "source": [
    "model = SentenceTransformer('all-MiniLM-L6-v2')"
   ]
  },
  {
   "cell_type": "code",
   "execution_count": 29,
   "metadata": {},
   "outputs": [
    {
     "data": {
      "text/plain": [
       "['A dedicated Electronics and Telecommunication professional with a strong background in machine learning, web development, and cloud platforms. Proven ability to lead projects, solve complex problems, and continuously learn new technologies to drive innovation and efficiency.',\n",
       " 'Aneesh Patne',\n",
       " 'aneeshpatne12@gmail.com',\n",
       " 'https://www.linkedin.com/in/aneeshpatne',\n",
       " 'https://github.com/aneeshpatne',\n",
       " 'https://leetcode.com/aneeshpatne',\n",
       " 'M.Tech in Electronics and Telecommunication',\n",
       " 'Veermata Jijabai Technological Institute',\n",
       " 'Mumbai, Maharashtra',\n",
       " '2023 - 2025',\n",
       " 'Specialized in Machine Learning and Signal Processing. Relevant coursework includes Advanced Algorithms, Neural Networks, and Communication Systems.',\n",
       " 'B.Tech in Electronics and Telecommunication',\n",
       " 'Thakur College of Engineering and Technology',\n",
       " 'Mumbai, Maharashtra',\n",
       " '2019 - 2023',\n",
       " 'Graduated with First Class Honors. Engaged in multiple projects focusing on embedded systems and wireless communication.',\n",
       " 'Python',\n",
       " 'Machine Learning',\n",
       " 'React',\n",
       " 'Node.js',\n",
       " 'TensorFlow',\n",
       " 'MATLAB',\n",
       " 'Express',\n",
       " 'MongoDB',\n",
       " 'Google Vertex AI',\n",
       " 'SvelteKit',\n",
       " 'Problem-Solving',\n",
       " 'Team Leadership',\n",
       " 'Effective Communication',\n",
       " 'Adaptability',\n",
       " 'Time Management',\n",
       " 'Socio-Economic Impact of Pollution on Life Expectancy',\n",
       " 'A machine learning project analyzing the impact of air pollution on life expectancy, integrating multiple socio-economic parameters.',\n",
       " 'Machine Learning',\n",
       " 'Google Vertex AI',\n",
       " 'SvelteKit',\n",
       " 'Express',\n",
       " 'January 2024 - Present',\n",
       " 'Machine Learning',\n",
       " 'Data Analysis',\n",
       " 'Sustainability',\n",
       " 'Personal Chatbot',\n",
       " 'Developed a chatbot to interactively present my resume, utilizing Retrieval-Augmented Generation (RAG) for accurate and context-specific responses.',\n",
       " 'Python',\n",
       " 'GPT-3',\n",
       " 'Flask',\n",
       " 'FAISS',\n",
       " 'March 2023 - June 2023',\n",
       " 'Chatbot',\n",
       " 'al Language Processing',\n",
       " 'AI',\n",
       " 'Web Development',\n",
       " 'IoT and ML based Weather Prediction System',\n",
       " 'Designed and implemented an embedded system for automating household tasks, enhancing efficiency and reliability.',\n",
       " 'C++',\n",
       " 'Arduino',\n",
       " 'IoT',\n",
       " 'September 2022 - December 2022',\n",
       " 'Embedded Systems',\n",
       " 'IoT',\n",
       " 'Automation',\n",
       " 'Machine Learning Specialist',\n",
       " 'Coursera',\n",
       " 'June 2023',\n",
       " 'ML12345',\n",
       " 'Full Stack Web Development',\n",
       " 'Udemy',\n",
       " 'April 2022',\n",
       " 'FSWD67890']"
      ]
     },
     "execution_count": 29,
     "metadata": {},
     "output_type": "execute_result"
    }
   ],
   "source": [
    "texts = [item[1] for item in collected_data]\n",
    "texts"
   ]
  },
  {
   "cell_type": "code",
   "execution_count": 30,
   "metadata": {},
   "outputs": [],
   "source": [
    "embeddings = model.encode(texts)"
   ]
  },
  {
   "cell_type": "code",
   "execution_count": 31,
   "metadata": {},
   "outputs": [],
   "source": [
    "embedded_data = [\n",
    "    {\"prefix\": collected_data[i][0], \"text\": texts[i], \"embedding\": embeddings[i].tolist()}\n",
    "    for i in range(len(texts))\n",
    "]"
   ]
  },
  {
   "cell_type": "markdown",
   "metadata": {},
   "source": [
    "Save to PineCode"
   ]
  },
  {
   "cell_type": "code",
   "execution_count": 34,
   "metadata": {},
   "outputs": [
    {
     "data": {
      "text/plain": [
       "True"
      ]
     },
     "execution_count": 34,
     "metadata": {},
     "output_type": "execute_result"
    }
   ],
   "source": [
    "load_dotenv()"
   ]
  },
  {
   "cell_type": "code",
   "execution_count": 37,
   "metadata": {},
   "outputs": [],
   "source": [
    "pc = Pinecone(\n",
    "    api_key=os.getenv(\"PINECONE_KEY\")\n",
    ")"
   ]
  },
  {
   "cell_type": "code",
   "execution_count": 38,
   "metadata": {},
   "outputs": [
    {
     "name": "stdout",
     "output_type": "stream",
     "text": [
      "Index 'rag-resume-data' is ready.\n"
     ]
    }
   ],
   "source": [
    "index_name = \"rag-resume-data\"\n",
    "embedding_dim = 384\n",
    "metric = \"cosine\"\n",
    "if index_name not in pc.list_indexes().names():\n",
    "    # Create the index\n",
    "    pc.create_index(\n",
    "        name=index_name,\n",
    "        dimension=embedding_dim,\n",
    "        metric=metric,\n",
    "        spec=ServerlessSpec(\n",
    "            cloud=\"aws\",  # Choose your cloud provider\n",
    "            region=\"us-east-1\"  # Choose your region\n",
    "        )\n",
    "    )\n",
    "print(f\"Index '{index_name}' is ready.\")\n"
   ]
  },
  {
   "cell_type": "code",
   "execution_count": 7,
   "metadata": {},
   "outputs": [
    {
     "data": {
      "text/plain": [
       "{'indexes': [{'deletion_protection': 'disabled',\n",
       "              'dimension': 384,\n",
       "              'host': 'rag-resume-data-icsq7e1.svc.aped-4627-b74a.pinecone.io',\n",
       "              'metric': 'cosine',\n",
       "              'name': 'rag-resume-data',\n",
       "              'spec': {'serverless': {'cloud': 'aws', 'region': 'us-east-1'}},\n",
       "              'status': {'ready': True, 'state': 'Ready'}}]}"
      ]
     },
     "execution_count": 7,
     "metadata": {},
     "output_type": "execute_result"
    }
   ],
   "source": [
    "pc.list_indexes()"
   ]
  },
  {
   "cell_type": "code",
   "execution_count": 44,
   "metadata": {},
   "outputs": [],
   "source": [
    "data_to_upsert = [\n",
    "    {\n",
    "        \"id\": f\"doc-{i}\",  \n",
    "        \"values\": item[\"embedding\"], \n",
    "        \"metadata\": {  \n",
    "            \"prefix\": item[\"prefix\"], \n",
    "            \"text\": item[\"text\"] \n",
    "        }\n",
    "    }\n",
    "    for i, item in enumerate(embedded_data)\n",
    "]"
   ]
  },
  {
   "cell_type": "code",
   "execution_count": 11,
   "metadata": {},
   "outputs": [
    {
     "name": "stdout",
     "output_type": "stream",
     "text": [
      "{'indexes': [{'deletion_protection': 'disabled',\n",
      "              'dimension': 384,\n",
      "              'host': 'rag-resume-data-icsq7e1.svc.aped-4627-b74a.pinecone.io',\n",
      "              'metric': 'cosine',\n",
      "              'name': 'rag-resume-data',\n",
      "              'spec': {'serverless': {'cloud': 'aws', 'region': 'us-east-1'}},\n",
      "              'status': {'ready': True, 'state': 'Ready'}}]}\n"
     ]
    }
   ],
   "source": [
    "indexes = pc.list_indexes()\n",
    "print(indexes)"
   ]
  },
  {
   "cell_type": "code",
   "execution_count": 13,
   "metadata": {},
   "outputs": [],
   "source": [
    "index = pc.Index(\"rag-resume-data\")"
   ]
  },
  {
   "cell_type": "code",
   "execution_count": null,
   "metadata": {},
   "outputs": [],
   "source": [
    "index.upsert(data_to_upsert)"
   ]
  },
  {
   "cell_type": "code",
   "execution_count": 15,
   "metadata": {},
   "outputs": [
    {
     "name": "stdout",
     "output_type": "stream",
     "text": [
      "{'dimension': 384,\n",
      " 'index_fullness': 0.0,\n",
      " 'namespaces': {'': {'vector_count': 69}},\n",
      " 'total_vector_count': 69}\n"
     ]
    }
   ],
   "source": [
    "stats = index.describe_index_stats()\n",
    "print(stats)"
   ]
  },
  {
   "cell_type": "code",
   "execution_count": 17,
   "metadata": {},
   "outputs": [],
   "source": [
    "def embeded_input(text):\n",
    "    return model.encode([text])[0].tolist()"
   ]
  },
  {
   "cell_type": "code",
   "execution_count": 26,
   "metadata": {},
   "outputs": [
    {
     "name": "stdout",
     "output_type": "stream",
     "text": [
      "[-0.010107128880918026, -0.04968219995498657, -0.039474911987781525, -0.017603961750864983, -0.1250545084476471, 0.015618768520653248, 0.1096700131893158, -0.14793065190315247, -0.018482867628335953, 0.03703707456588745, -0.02054527960717678, -0.003957622684538364, 0.013477451168000698, -0.04549214616417885, -0.006243489682674408, 0.036690741777420044, -0.010237528942525387, 0.010079842992126942, 0.003939739894121885, -0.054095834493637085, -0.11581249535083771, -0.04581153020262718, 0.0470491386950016, 0.017357056960463524, -0.012152349576354027, 0.007284059189260006, 0.029166018590331078, -0.009236005134880543, -0.007039881311357021, -0.04266420379281044, 0.0022258078679442406, 0.07909633964300156, 0.010137906298041344, 0.05628261715173721, -0.011744050309062004, 0.07038737088441849, 0.07474038004875183, 0.010937669314444065, -0.10540402680635452, 0.10816764086484909, -0.010990804992616177, -0.002360441256314516, 0.02849445678293705, -0.021888459101319313, 0.013698265887796879, 0.045282673090696335, -0.03269096091389656, -0.07720018923282623, 0.04453031346201897, -0.005033574532717466, -0.041455820202827454, 0.0025477006565779448, 0.04411539062857628, 0.011922682635486126, 0.01621609553694725, 0.012887450866401196, 0.03354930132627487, 0.024204229936003685, 0.00975133292376995, 0.04376320168375969, 0.022613443434238434, 0.004851462319493294, -0.0022258171811699867, 0.028707804158329964, -0.014312569051980972, -0.03504909574985504, -0.016080934554338455, -0.040434494614601135, -0.022676147520542145, -0.028960896655917168, -0.04303771257400513, -0.0909765437245369, 0.09013282507658005, 0.014928196556866169, -0.01294931210577488, 0.0021895435638725758, 0.03663491830229759, -0.04188896343111992, -0.07473453879356384, -0.03826003149151802, -0.06986832618713379, -0.10359907895326614, -0.025050178170204163, -0.025215953588485718, 0.007529321126639843, -0.000360706850187853, 0.014185706153512001, 0.03755033016204834, -0.025870170444250107, -0.023849740624427795, -0.06016552075743675, -0.036462344229221344, -0.12566311657428741, -0.06428873538970947, 0.03944063186645508, 0.0061998614110052586, -0.006688384339213371, 0.00021849553741049021, -0.11234358698129654, 0.0580521821975708, 0.004266621079295874, 0.07363055646419525, 0.05528334528207779, 0.0455862358212471, -0.052743613719940186, -0.03804862126708031, 0.009536097757518291, 0.07467930763959885, 0.12112220376729965, -0.030463121831417084, -0.06866193562746048, -0.027045655995607376, 0.09522783756256104, 0.033922966569662094, 0.08164273947477341, 0.04968869313597679, -0.01520700566470623, -0.00680294306948781, -0.053312037140131, -0.007060889154672623, 0.07211338728666306, 0.026599669829010963, 0.006800131406635046, 0.11477596312761307, -0.05547504872083664, -0.04268849641084671, -0.07287000119686127, -4.6060577989460206e-33, 0.06836357712745667, 0.006608813535422087, 0.07895324379205704, -0.04735478758811951, 0.019307170063257217, 0.015507232397794724, -0.05583220720291138, -0.07830414921045303, 0.01926652155816555, 0.011641258373856544, 0.034989356994628906, -0.08244503289461136, 0.011366909369826317, -0.0072310445830225945, 0.03497472405433655, 0.029744943603873253, -0.030886955559253693, -0.03636742755770683, -0.041025374084711075, 0.006997354328632355, 0.017717238515615463, 0.03568394482135773, -0.00023309244716074318, -0.02717835269868374, -0.0006724873674102128, 0.03480895608663559, 0.01387728564441204, 0.010756684467196465, 0.0467086024582386, 0.05366598069667816, -0.04929669201374054, -0.025294655933976173, -0.11496967822313309, 0.002358781173825264, 0.00696297362446785, -0.053513944149017334, -0.016041487455368042, -0.005822100210934877, 0.027089249342679977, 0.01715470477938652, 0.046581607311964035, -0.04558008164167404, 0.003990963101387024, -0.0283669400960207, -0.04562198743224144, 0.03701840713620186, 0.05435439944267273, -0.03008251078426838, 0.07082528620958328, -0.023202836513519287, 0.0009294158080592752, -0.04597499594092369, 0.011037222109735012, -0.07963128387928009, 0.07517419010400772, 0.03815024718642235, 0.041067324578762054, 0.005347315687686205, 0.04146195575594902, 0.05368479713797569, 0.02133641205728054, 0.02848697453737259, 0.0032132475171238184, -0.073726586997509, -0.04928009957075119, 0.048085153102874756, -0.026561101898550987, -0.0028643023688346148, 0.05311192572116852, -0.08584057539701462, -0.06551739573478699, 0.009082108736038208, -0.0048685758374631405, 0.01807154156267643, 0.008358364924788475, -0.07223670184612274, 0.03372697904706001, -0.051253627985715866, 0.04490412026643753, -0.0856315940618515, -0.0063085188157856464, -0.07930891960859299, -0.0018959727603942156, 0.047676458954811096, 0.005023156758397818, -0.0363793782889843, 0.04319312795996666, -0.01204192265868187, -0.045915357768535614, -0.038136888295412064, -0.09303668141365051, 0.01910160854458809, 0.007802354171872139, -0.05482164025306702, -0.02516072429716587, 1.2384943277061349e-33, -0.04227747023105621, 0.051539380103349686, -0.05455584451556206, 0.022410450503230095, 0.06451743841171265, -0.03906972333788872, 0.04906626045703888, 0.10693604499101639, 0.03698643669486046, -0.03625723347067833, 0.012945843860507011, -0.06481905281543732, -0.035363003611564636, -0.061671800911426544, 0.139616921544075, 0.012313704006373882, 0.11206388473510742, 0.10730739682912827, 0.06691888719797134, -0.008480251766741276, -0.09575776010751724, -0.01195620745420456, 0.0074865506030619144, -0.005266793072223663, -0.08246456831693649, 0.019518909975886345, 0.04269265756011009, 0.03750692307949066, -0.06118583306670189, 0.029789265245199203, 0.07457805424928665, -0.05927587300539017, -0.06446927040815353, -0.047437380999326706, -0.07238881289958954, 0.04349295049905777, -0.08483661711215973, -0.016642361879348755, -0.0884908139705658, 0.0022208834998309612, 0.011755047366023064, -0.03951164707541466, -0.02194901369512081, 0.07871389389038086, -0.013455154374241829, 0.03191572055220604, -0.08964810520410538, 0.19286809861660004, 0.014610975980758667, -0.039907306432724, 0.019509069621562958, 0.007197925820946693, 0.06696803867816925, -0.08934401720762253, 0.019033828750252724, -2.0281358956708573e-05, 0.010765942744910717, 0.020925799384713173, -0.08913441002368927, -0.03705514222383499, 0.051679376512765884, 0.025111397728323936, -0.004388600587844849, 0.055524393916130066, 0.027982965111732483, 0.013479158282279968, -0.07631865888834, -0.0071067470125854015, -0.0073037222027778625, 0.018202370032668114, 0.04587109386920929, -0.016368508338928223, -0.11008176952600479, 0.0066591789945960045, -0.046108029782772064, -0.03777649253606796, -0.03875740244984627, -0.04603035748004913, 0.021789224818348885, -0.05387714505195618, -0.1024763211607933, -0.013950754888355732, -0.01469540223479271, -0.01884603500366211, 0.04735024645924568, 0.07075010985136032, 0.03865605592727661, 0.003828599816188216, 0.0430094338953495, -0.011106709018349648, 0.10337401926517487, 0.057411231100559235, 0.02669272944331169, -0.06893579661846161, -0.03115837275981903, -1.6029924054805633e-08, -0.05175752192735672, 0.029885748401284218, 0.06035802513360977, -0.04880111292004585, 0.04678429290652275, 0.0673370510339737, 0.04421767219901085, 0.03657756745815277, 0.009766640141606331, -0.019282493740320206, 0.047703664749860764, 0.03980487957596779, 0.09721029549837112, 0.04385030269622803, 0.041889265179634094, 0.019799817353487015, 0.12095806747674942, 0.05309634655714035, -0.02808409556746483, 0.06404073536396027, 0.04580962285399437, -0.0825439840555191, 0.006325943861156702, -0.007223408669233322, -0.03034638613462448, -0.008177664130926132, 0.05200689658522606, 0.043905194848775864, -0.06801429390907288, 0.03788740187883377, 0.01818145625293255, -0.04842618480324745, -0.006294931750744581, -0.006299737840890884, 0.03675566613674164, -0.07623477280139923, 0.028856469318270683, -0.027941877022385597, 0.003537091426551342, -0.05367092043161392, -0.03517919033765793, 0.042058080434799194, 0.12218102067708969, 0.0428389310836792, -0.07034590095281601, 0.019913217052817345, 0.057889148592948914, -0.11929553002119064, 0.03124980628490448, 0.011160604655742645, -0.010307054035365582, 0.04340582340955734, -0.0071149966679513454, -0.027653774246573448, 0.08500060439109802, -0.06644996255636215, -0.07896004617214203, -0.0013116976479068398, -0.003780391998589039, -0.03921643644571304, 0.060273848474025726, 0.05580849573016167, 0.021284308284521103, -0.03615697845816612]\n"
     ]
    }
   ],
   "source": [
    "query = \"Does Aneesh Know dance?\"\n",
    "query_embedding = embeded_input(query)\n",
    "print(query_embedding)"
   ]
  },
  {
   "cell_type": "code",
   "execution_count": 27,
   "metadata": {},
   "outputs": [
    {
     "data": {
      "text/plain": [
       "{'matches': [{'id': 'doc-1',\n",
       "              'metadata': {'prefix': 'contact.name', 'text': 'Aneesh Patne'},\n",
       "              'score': 0.428705513,\n",
       "              'values': []},\n",
       "             {'id': 'doc-5',\n",
       "              'metadata': {'prefix': 'contact.leetcode',\n",
       "                           'text': 'https://leetcode.com/aneeshpatne'},\n",
       "              'score': 0.378607,\n",
       "              'values': []},\n",
       "             {'id': 'doc-4',\n",
       "              'metadata': {'prefix': 'contact.github',\n",
       "                           'text': 'https://github.com/aneeshpatne'},\n",
       "              'score': 0.338567346,\n",
       "              'values': []},\n",
       "             {'id': 'doc-2',\n",
       "              'metadata': {'prefix': 'contact.email',\n",
       "                           'text': 'aneeshpatne12@gmail.com'},\n",
       "              'score': 0.265222788,\n",
       "              'values': []},\n",
       "             {'id': 'doc-3',\n",
       "              'metadata': {'prefix': 'contact.linkedin',\n",
       "                           'text': 'https://www.linkedin.com/in/aneeshpatne'},\n",
       "              'score': 0.252563417,\n",
       "              'values': []}],\n",
       " 'namespace': '',\n",
       " 'usage': {'read_units': 6}}"
      ]
     },
     "execution_count": 27,
     "metadata": {},
     "output_type": "execute_result"
    }
   ],
   "source": [
    "results = index.query(vector=query_embedding, top_k=5, include_metadata=True)\n",
    "results"
   ]
  }
 ],
 "metadata": {
  "kernelspec": {
   "display_name": ".venv",
   "language": "python",
   "name": "python3"
  },
  "language_info": {
   "codemirror_mode": {
    "name": "ipython",
    "version": 3
   },
   "file_extension": ".py",
   "mimetype": "text/x-python",
   "name": "python",
   "nbconvert_exporter": "python",
   "pygments_lexer": "ipython3",
   "version": "3.12.0"
  }
 },
 "nbformat": 4,
 "nbformat_minor": 2
}
