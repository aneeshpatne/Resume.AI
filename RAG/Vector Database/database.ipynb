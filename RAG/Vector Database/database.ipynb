{
 "cells": [
  {
   "cell_type": "code",
   "execution_count": 1,
   "metadata": {},
   "outputs": [
    {
     "name": "stderr",
     "output_type": "stream",
     "text": [
      "c:\\Users\\anees\\Desktop\\Coding\\llmrepo\\train-LLAMA\\.venv\\Lib\\site-packages\\pinecone\\data\\index.py:1: TqdmWarning: IProgress not found. Please update jupyter and ipywidgets. See https://ipywidgets.readthedocs.io/en/stable/user_install.html\n",
      "  from tqdm.autonotebook import tqdm\n"
     ]
    }
   ],
   "source": [
    "from pinecone import Pinecone, ServerlessSpec\n",
    "from sentence_transformers import SentenceTransformer\n",
    "import json\n",
    "import pinecone\n",
    "from dotenv import load_dotenv\n",
    "import os\n"
   ]
  },
  {
   "cell_type": "code",
   "execution_count": null,
   "metadata": {},
   "outputs": [],
   "source": [
    "load_dotenv()"
   ]
  },
  {
   "cell_type": "code",
   "execution_count": 3,
   "metadata": {},
   "outputs": [],
   "source": [
    "pc = Pinecone(api_key=os.getenv(\"PINECONE_KEY\"))"
   ]
  },
  {
   "cell_type": "code",
   "execution_count": 4,
   "metadata": {},
   "outputs": [],
   "source": [
    "with open(\"data.json\", \"r\") as file:\n",
    "    data = json.load(file)\n"
   ]
  },
  {
   "cell_type": "code",
   "execution_count": 5,
   "metadata": {},
   "outputs": [],
   "source": [
    "def collect_data(data, key_filter=None, prefix=\"\"):\n",
    "    collected_data = []\n",
    "\n",
    "    if isinstance(data, dict): \n",
    "        for key, value in data.items():\n",
    "            new_prefix = f\"{prefix}.{key}\" if prefix else key \n",
    "            if key_filter is None or key in key_filter:\n",
    "                if isinstance(value, str):  \n",
    "                    collected_data.append((new_prefix, value))\n",
    "                elif isinstance(value, (dict, list)): \n",
    "                    collected_data.extend(collect_data(value, key_filter, new_prefix))\n",
    "            elif isinstance(value, (dict, list)):\n",
    "                collected_data.extend(collect_data(value, key_filter, new_prefix))\n",
    "    elif isinstance(data, list):  \n",
    "        for i, item in enumerate(data):\n",
    "            new_prefix = f\"{prefix}[{i}]\"  \n",
    "            collected_data.extend(collect_data(item, key_filter, new_prefix))\n",
    "    elif isinstance(data, str): \n",
    "        collected_data.append((prefix, data))\n",
    "\n",
    "    return collected_data\n",
    "collected_data = collect_data(data)\n"
   ]
  },
  {
   "cell_type": "code",
   "execution_count": 6,
   "metadata": {},
   "outputs": [],
   "source": [
    "model = SentenceTransformer('all-MiniLM-L6-v2')"
   ]
  },
  {
   "cell_type": "code",
   "execution_count": 29,
   "metadata": {},
   "outputs": [
    {
     "data": {
      "text/plain": [
       "['A dedicated Electronics and Telecommunication professional with a strong background in machine learning, web development, and cloud platforms. Proven ability to lead projects, solve complex problems, and continuously learn new technologies to drive innovation and efficiency.',\n",
       " 'Aneesh Patne',\n",
       " 'aneeshpatne12@gmail.com',\n",
       " 'https://www.linkedin.com/in/aneeshpatne',\n",
       " 'https://github.com/aneeshpatne',\n",
       " 'https://leetcode.com/aneeshpatne',\n",
       " 'M.Tech in Electronics and Telecommunication',\n",
       " 'Veermata Jijabai Technological Institute',\n",
       " 'Mumbai, Maharashtra',\n",
       " '2023 - 2025',\n",
       " 'Specialized in Machine Learning and Signal Processing. Relevant coursework includes Advanced Algorithms, Neural Networks, and Communication Systems.',\n",
       " 'B.Tech in Electronics and Telecommunication',\n",
       " 'Thakur College of Engineering and Technology',\n",
       " 'Mumbai, Maharashtra',\n",
       " '2019 - 2023',\n",
       " 'Graduated with First Class Honors. Engaged in multiple projects focusing on embedded systems and wireless communication.',\n",
       " 'Python',\n",
       " 'Machine Learning',\n",
       " 'React',\n",
       " 'Node.js',\n",
       " 'TensorFlow',\n",
       " 'MATLAB',\n",
       " 'Express',\n",
       " 'MongoDB',\n",
       " 'Google Vertex AI',\n",
       " 'SvelteKit',\n",
       " 'Problem-Solving',\n",
       " 'Team Leadership',\n",
       " 'Effective Communication',\n",
       " 'Adaptability',\n",
       " 'Time Management',\n",
       " 'Socio-Economic Impact of Pollution on Life Expectancy',\n",
       " 'A machine learning project analyzing the impact of air pollution on life expectancy, integrating multiple socio-economic parameters.',\n",
       " 'Machine Learning',\n",
       " 'Google Vertex AI',\n",
       " 'SvelteKit',\n",
       " 'Express',\n",
       " 'January 2024 - Present',\n",
       " 'Machine Learning',\n",
       " 'Data Analysis',\n",
       " 'Sustainability',\n",
       " 'Personal Chatbot',\n",
       " 'Developed a chatbot to interactively present my resume, utilizing Retrieval-Augmented Generation (RAG) for accurate and context-specific responses.',\n",
       " 'Python',\n",
       " 'GPT-3',\n",
       " 'Flask',\n",
       " 'FAISS',\n",
       " 'March 2023 - June 2023',\n",
       " 'Chatbot',\n",
       " 'al Language Processing',\n",
       " 'AI',\n",
       " 'Web Development',\n",
       " 'IoT and ML based Weather Prediction System',\n",
       " 'Designed and implemented an embedded system for automating household tasks, enhancing efficiency and reliability.',\n",
       " 'C++',\n",
       " 'Arduino',\n",
       " 'IoT',\n",
       " 'September 2022 - December 2022',\n",
       " 'Embedded Systems',\n",
       " 'IoT',\n",
       " 'Automation',\n",
       " 'Machine Learning Specialist',\n",
       " 'Coursera',\n",
       " 'June 2023',\n",
       " 'ML12345',\n",
       " 'Full Stack Web Development',\n",
       " 'Udemy',\n",
       " 'April 2022',\n",
       " 'FSWD67890']"
      ]
     },
     "execution_count": 29,
     "metadata": {},
     "output_type": "execute_result"
    }
   ],
   "source": [
    "texts = [item[1] for item in collected_data]\n",
    "texts"
   ]
  },
  {
   "cell_type": "code",
   "execution_count": 30,
   "metadata": {},
   "outputs": [],
   "source": [
    "embeddings = model.encode(texts)"
   ]
  },
  {
   "cell_type": "code",
   "execution_count": 31,
   "metadata": {},
   "outputs": [],
   "source": [
    "embedded_data = [\n",
    "    {\"prefix\": collected_data[i][0], \"text\": texts[i], \"embedding\": embeddings[i].tolist()}\n",
    "    for i in range(len(texts))\n",
    "]"
   ]
  },
  {
   "cell_type": "markdown",
   "metadata": {},
   "source": [
    "Save to PineCode"
   ]
  },
  {
   "cell_type": "code",
   "execution_count": 34,
   "metadata": {},
   "outputs": [
    {
     "data": {
      "text/plain": [
       "True"
      ]
     },
     "execution_count": 34,
     "metadata": {},
     "output_type": "execute_result"
    }
   ],
   "source": [
    "load_dotenv()"
   ]
  },
  {
   "cell_type": "code",
   "execution_count": 37,
   "metadata": {},
   "outputs": [],
   "source": [
    "pc = Pinecone(\n",
    "    api_key=os.getenv(\"PINECONE_KEY\")\n",
    ")"
   ]
  },
  {
   "cell_type": "code",
   "execution_count": 38,
   "metadata": {},
   "outputs": [
    {
     "name": "stdout",
     "output_type": "stream",
     "text": [
      "Index 'rag-resume-data' is ready.\n"
     ]
    }
   ],
   "source": [
    "index_name = \"rag-resume-data\"\n",
    "embedding_dim = 384\n",
    "metric = \"cosine\"\n",
    "if index_name not in pc.list_indexes().names():\n",
    "    # Create the index\n",
    "    pc.create_index(\n",
    "        name=index_name,\n",
    "        dimension=embedding_dim,\n",
    "        metric=metric,\n",
    "        spec=ServerlessSpec(\n",
    "            cloud=\"aws\",  # Choose your cloud provider\n",
    "            region=\"us-east-1\"  # Choose your region\n",
    "        )\n",
    "    )\n",
    "print(f\"Index '{index_name}' is ready.\")\n"
   ]
  },
  {
   "cell_type": "code",
   "execution_count": 7,
   "metadata": {},
   "outputs": [
    {
     "data": {
      "text/plain": [
       "{'indexes': [{'deletion_protection': 'disabled',\n",
       "              'dimension': 384,\n",
       "              'host': 'rag-resume-data-icsq7e1.svc.aped-4627-b74a.pinecone.io',\n",
       "              'metric': 'cosine',\n",
       "              'name': 'rag-resume-data',\n",
       "              'spec': {'serverless': {'cloud': 'aws', 'region': 'us-east-1'}},\n",
       "              'status': {'ready': True, 'state': 'Ready'}}]}"
      ]
     },
     "execution_count": 7,
     "metadata": {},
     "output_type": "execute_result"
    }
   ],
   "source": [
    "pc.list_indexes()"
   ]
  },
  {
   "cell_type": "code",
   "execution_count": 9,
   "metadata": {},
   "outputs": [],
   "source": [
    "indexes = pc.list_indexes()"
   ]
  },
  {
   "cell_type": "code",
   "execution_count": null,
   "metadata": {},
   "outputs": [],
   "source": [
    "print"
   ]
  },
  {
   "cell_type": "code",
   "execution_count": 44,
   "metadata": {},
   "outputs": [],
   "source": [
    "data_to_upsert = [\n",
    "    {\n",
    "        \"id\": f\"doc-{i}\",  \n",
    "        \"values\": item[\"embedding\"], \n",
    "        \"metadata\": {  \n",
    "            \"prefix\": item[\"prefix\"], \n",
    "            \"text\": item[\"text\"] \n",
    "        }\n",
    "    }\n",
    "    for i, item in enumerate(embedded_data)\n",
    "]"
   ]
  },
  {
   "cell_type": "code",
   "execution_count": 45,
   "metadata": {},
   "outputs": [
    {
     "data": {
      "text/plain": [
       "{'upserted_count': 69}"
      ]
     },
     "execution_count": 45,
     "metadata": {},
     "output_type": "execute_result"
    }
   ],
   "source": [
    "index.upsert(data_to_upsert)"
   ]
  }
 ],
 "metadata": {
  "kernelspec": {
   "display_name": ".venv",
   "language": "python",
   "name": "python3"
  },
  "language_info": {
   "codemirror_mode": {
    "name": "ipython",
    "version": 3
   },
   "file_extension": ".py",
   "mimetype": "text/x-python",
   "name": "python",
   "nbconvert_exporter": "python",
   "pygments_lexer": "ipython3",
   "version": "3.12.0"
  }
 },
 "nbformat": 4,
 "nbformat_minor": 2
}
