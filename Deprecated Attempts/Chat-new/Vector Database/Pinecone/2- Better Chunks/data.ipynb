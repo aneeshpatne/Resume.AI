{
 "cells": [
  {
   "cell_type": "code",
   "execution_count": 2,
   "metadata": {},
   "outputs": [
    {
     "name": "stderr",
     "output_type": "stream",
     "text": [
      "c:\\Users\\anees\\Desktop\\Coding\\llmrepo\\train-LLAMA\\.venv\\Lib\\site-packages\\pinecone\\data\\index.py:1: TqdmWarning: IProgress not found. Please update jupyter and ipywidgets. See https://ipywidgets.readthedocs.io/en/stable/user_install.html\n",
      "  from tqdm.autonotebook import tqdm\n"
     ]
    }
   ],
   "source": [
    "import json\n",
    "from pinecone import Pinecone, ServerlessSpec\n",
    "from sentence_transformers import SentenceTransformer\n",
    "from dotenv import load_dotenv\n",
    "import os"
   ]
  },
  {
   "cell_type": "code",
   "execution_count": 3,
   "metadata": {},
   "outputs": [
    {
     "data": {
      "text/plain": [
       "True"
      ]
     },
     "execution_count": 3,
     "metadata": {},
     "output_type": "execute_result"
    }
   ],
   "source": [
    "load_dotenv()"
   ]
  },
  {
   "cell_type": "code",
   "execution_count": 4,
   "metadata": {},
   "outputs": [],
   "source": [
    "with (open('../data.json', 'r')) as file:\n",
    "    resume_data = json.load(file)"
   ]
  },
  {
   "cell_type": "code",
   "execution_count": 5,
   "metadata": {},
   "outputs": [
    {
     "data": {
      "text/plain": [
       "{'summary': 'A dedicated Electronics and Telecommunication professional with a strong background in machine learning, web development, and cloud platforms. Proven ability to lead projects, solve complex problems, and continuously learn new technologies to drive innovation and efficiency.',\n",
       " 'contact': {'name': 'Aneesh Patne',\n",
       "  'email': 'aneeshpatne12@gmail.com',\n",
       "  'linkedin': 'https://www.linkedin.com/in/aneeshpatne',\n",
       "  'github': 'https://github.com/aneeshpatne',\n",
       "  'leetcode': 'https://leetcode.com/aneeshpatne'},\n",
       " 'education': [{'degree': 'M.Tech in Electronics and Telecommunication',\n",
       "   'institution': 'Veermata Jijabai Technological Institute',\n",
       "   'location': 'Mumbai, Maharashtra',\n",
       "   'duration': '2023 - 2025',\n",
       "   'details': 'Specialized in Machine Learning and Signal Processing. Relevant coursework includes Advanced Algorithms, Neural Networks, and Communication Systems.'},\n",
       "  {'degree': 'B.Tech in Electronics and Telecommunication',\n",
       "   'institution': 'Thakur College of Engineering and Technology',\n",
       "   'location': 'Mumbai, Maharashtra',\n",
       "   'duration': '2019 - 2023',\n",
       "   'details': 'Graduated with First Class Honors. Engaged in multiple projects focusing on embedded systems and wireless communication.'}],\n",
       " 'skills': {'technical_skills': ['Python',\n",
       "   'Machine Learning',\n",
       "   'React',\n",
       "   'Node.js',\n",
       "   'TensorFlow',\n",
       "   'MATLAB',\n",
       "   'Express',\n",
       "   'MongoDB',\n",
       "   'Google Vertex AI',\n",
       "   'SvelteKit'],\n",
       "  'soft_skills': ['Problem-Solving',\n",
       "   'Team Leadership',\n",
       "   'Effective Communication',\n",
       "   'Adaptability',\n",
       "   'Time Management']},\n",
       " 'projects': [{'title': 'Socio-Economic Impact of Pollution on Life Expectancy',\n",
       "   'description': 'A machine learning project analyzing the impact of air pollution on life expectancy, integrating multiple socio-economic parameters.',\n",
       "   'technologies_used': ['Machine Learning',\n",
       "    'Google Vertex AI',\n",
       "    'SvelteKit',\n",
       "    'Express'],\n",
       "   'duration': 'January 2024 - Present',\n",
       "   'tags': ['Machine Learning', 'Data Analysis', 'Sustainability']},\n",
       "  {'title': 'Personal Chatbot',\n",
       "   'description': 'Developed a chatbot to interactively present my resume, utilizing Retrieval-Augmented Generation (RAG) for accurate and context-specific responses.',\n",
       "   'technologies_used': ['Python', 'GPT-3', 'Flask', 'FAISS'],\n",
       "   'duration': 'March 2023 - June 2023',\n",
       "   'tags': ['Chatbot', 'al Language Processing', 'AI', 'Web Development']},\n",
       "  {'title': 'IoT and ML based Weather Prediction System',\n",
       "   'description': 'Designed and implemented an embedded system for automating household tasks, enhancing efficiency and reliability.',\n",
       "   'technologies_used': ['C++', 'Arduino', 'IoT'],\n",
       "   'duration': 'September 2022 - December 2022',\n",
       "   'tags': ['Embedded Systems',\n",
       "    'IoT',\n",
       "    'Automation',\n",
       "    'React',\n",
       "    'NextJS',\n",
       "    'Next']}],\n",
       " 'certifications': [{'title': 'Machine Learning Specialist',\n",
       "   'issuing_organization': 'Coursera',\n",
       "   'date_awarded': 'June 2023',\n",
       "   'credential_id': 'ML12345'},\n",
       "  {'title': 'Full Stack Web Development',\n",
       "   'issuing_organization': 'Udemy',\n",
       "   'date_awarded': 'April 2022',\n",
       "   'credential_id': 'FSWD67890'}]}"
      ]
     },
     "execution_count": 5,
     "metadata": {},
     "output_type": "execute_result"
    }
   ],
   "source": [
    "resume_data"
   ]
  },
  {
   "cell_type": "code",
   "execution_count": 4,
   "metadata": {},
   "outputs": [],
   "source": [
    "resume_text = json.dumps(resume_data, indent=2)"
   ]
  },
  {
   "cell_type": "code",
   "execution_count": 9,
   "metadata": {},
   "outputs": [],
   "source": [
    "model = SentenceTransformer('all-MiniLM-L6-v2')"
   ]
  },
  {
   "cell_type": "code",
   "execution_count": 15,
   "metadata": {},
   "outputs": [],
   "source": [
    "chunks =[]"
   ]
  },
  {
   "cell_type": "code",
   "execution_count": 18,
   "metadata": {},
   "outputs": [],
   "source": [
    "chunks.append({\n",
    "    \"id\": \"summary\",\n",
    "    \"text\":resume_data['summary'],\n",
    "    \"metadata\": {\"section\": \"summary\"}\n",
    "\n",
    "})"
   ]
  },
  {
   "cell_type": "code",
   "execution_count": 21,
   "metadata": {},
   "outputs": [],
   "source": [
    "contact_text = json.dumps(resume_data[\"contact\"], indent=2)\n",
    "chunks.append({\n",
    "        \"id\": \"contact\",\n",
    "        \"text\": contact_text,\n",
    "        \"metadata\": {\"section\": \"contact\"}\n",
    "        })"
   ]
  },
  {
   "cell_type": "code",
   "execution_count": 23,
   "metadata": {},
   "outputs": [],
   "source": [
    "for idx, edu in enumerate(resume_data[\"education\"], start=1):\n",
    "        edu_text = json.dumps(edu, indent=2)\n",
    "        chunks.append({\n",
    "            \"id\": f\"education_{idx}\",\n",
    "            \"text\": edu_text,\n",
    "            \"metadata\": {\"section\": \"education\"}\n",
    "        })"
   ]
  },
  {
   "cell_type": "code",
   "execution_count": 24,
   "metadata": {},
   "outputs": [
    {
     "data": {
      "text/plain": [
       "[{'id': 'summary',\n",
       "  'text': 'A dedicated Electronics and Telecommunication professional with a strong background in machine learning, web development, and cloud platforms. Proven ability to lead projects, solve complex problems, and continuously learn new technologies to drive innovation and efficiency.',\n",
       "  'metadata': {'section': 'summary'}},\n",
       " {'id': 'contact',\n",
       "  'text': '{\\n  \"name\": \"Aneesh Patne\",\\n  \"email\": \"aneeshpatne12@gmail.com\",\\n  \"linkedin\": \"https://www.linkedin.com/in/aneeshpatne\",\\n  \"github\": \"https://github.com/aneeshpatne\",\\n  \"leetcode\": \"https://leetcode.com/aneeshpatne\"\\n}',\n",
       "  'metadata': {'section': 'contact'}},\n",
       " {'id': 'education_1',\n",
       "  'text': '{\\n  \"degree\": \"M.Tech in Electronics and Telecommunication\",\\n  \"institution\": \"Veermata Jijabai Technological Institute\",\\n  \"location\": \"Mumbai, Maharashtra\",\\n  \"duration\": \"2023 - 2025\",\\n  \"details\": \"Specialized in Machine Learning and Signal Processing. Relevant coursework includes Advanced Algorithms, Neural Networks, and Communication Systems.\"\\n}',\n",
       "  'metadata': {'section': 'education'}},\n",
       " {'id': 'education_2',\n",
       "  'text': '{\\n  \"degree\": \"B.Tech in Electronics and Telecommunication\",\\n  \"institution\": \"Thakur College of Engineering and Technology\",\\n  \"location\": \"Mumbai, Maharashtra\",\\n  \"duration\": \"2019 - 2023\",\\n  \"details\": \"Graduated with First Class Honors. Engaged in multiple projects focusing on embedded systems and wireless communication.\"\\n}',\n",
       "  'metadata': {'section': 'education'}}]"
      ]
     },
     "execution_count": 24,
     "metadata": {},
     "output_type": "execute_result"
    }
   ],
   "source": [
    "chunks"
   ]
  },
  {
   "cell_type": "code",
   "execution_count": 25,
   "metadata": {},
   "outputs": [],
   "source": [
    "skills_text = json.dumps(resume_data[\"skills\"], indent=2)\n",
    "chunks.append({\n",
    "    \"id\": \"skills\",\n",
    "    \"text\": skills_text,\n",
    "    \"metadata\": {\"section\": \"skills\"}\n",
    "})"
   ]
  },
  {
   "cell_type": "code",
   "execution_count": 26,
   "metadata": {},
   "outputs": [
    {
     "data": {
      "text/plain": [
       "[{'id': 'summary',\n",
       "  'text': 'A dedicated Electronics and Telecommunication professional with a strong background in machine learning, web development, and cloud platforms. Proven ability to lead projects, solve complex problems, and continuously learn new technologies to drive innovation and efficiency.',\n",
       "  'metadata': {'section': 'summary'}},\n",
       " {'id': 'contact',\n",
       "  'text': '{\\n  \"name\": \"Aneesh Patne\",\\n  \"email\": \"aneeshpatne12@gmail.com\",\\n  \"linkedin\": \"https://www.linkedin.com/in/aneeshpatne\",\\n  \"github\": \"https://github.com/aneeshpatne\",\\n  \"leetcode\": \"https://leetcode.com/aneeshpatne\"\\n}',\n",
       "  'metadata': {'section': 'contact'}},\n",
       " {'id': 'education_1',\n",
       "  'text': '{\\n  \"degree\": \"M.Tech in Electronics and Telecommunication\",\\n  \"institution\": \"Veermata Jijabai Technological Institute\",\\n  \"location\": \"Mumbai, Maharashtra\",\\n  \"duration\": \"2023 - 2025\",\\n  \"details\": \"Specialized in Machine Learning and Signal Processing. Relevant coursework includes Advanced Algorithms, Neural Networks, and Communication Systems.\"\\n}',\n",
       "  'metadata': {'section': 'education'}},\n",
       " {'id': 'education_2',\n",
       "  'text': '{\\n  \"degree\": \"B.Tech in Electronics and Telecommunication\",\\n  \"institution\": \"Thakur College of Engineering and Technology\",\\n  \"location\": \"Mumbai, Maharashtra\",\\n  \"duration\": \"2019 - 2023\",\\n  \"details\": \"Graduated with First Class Honors. Engaged in multiple projects focusing on embedded systems and wireless communication.\"\\n}',\n",
       "  'metadata': {'section': 'education'}},\n",
       " {'id': 'skills',\n",
       "  'text': '{\\n  \"technical_skills\": [\\n    \"Python\",\\n    \"Machine Learning\",\\n    \"React\",\\n    \"Node.js\",\\n    \"TensorFlow\",\\n    \"MATLAB\",\\n    \"Express\",\\n    \"MongoDB\",\\n    \"Google Vertex AI\",\\n    \"SvelteKit\"\\n  ],\\n  \"soft_skills\": [\\n    \"Problem-Solving\",\\n    \"Team Leadership\",\\n    \"Effective Communication\",\\n    \"Adaptability\",\\n    \"Time Management\"\\n  ]\\n}',\n",
       "  'metadata': {'section': 'skills'}}]"
      ]
     },
     "execution_count": 26,
     "metadata": {},
     "output_type": "execute_result"
    }
   ],
   "source": [
    "chunks"
   ]
  },
  {
   "cell_type": "code",
   "execution_count": 28,
   "metadata": {},
   "outputs": [],
   "source": [
    "for idx, project in enumerate(resume_data[\"projects\"], start=1):\n",
    "    project_text = json.dumps(project, indent=2)\n",
    "    chunks.append({\n",
    "        \"id\": f\"project_{idx}\",\n",
    "        \"text\": project_text,\n",
    "        \"metadata\": {\"section\": \"project\"}\n",
    "    })"
   ]
  },
  {
   "cell_type": "code",
   "execution_count": 29,
   "metadata": {},
   "outputs": [
    {
     "data": {
      "text/plain": [
       "[{'id': 'summary',\n",
       "  'text': 'A dedicated Electronics and Telecommunication professional with a strong background in machine learning, web development, and cloud platforms. Proven ability to lead projects, solve complex problems, and continuously learn new technologies to drive innovation and efficiency.',\n",
       "  'metadata': {'section': 'summary'}},\n",
       " {'id': 'contact',\n",
       "  'text': '{\\n  \"name\": \"Aneesh Patne\",\\n  \"email\": \"aneeshpatne12@gmail.com\",\\n  \"linkedin\": \"https://www.linkedin.com/in/aneeshpatne\",\\n  \"github\": \"https://github.com/aneeshpatne\",\\n  \"leetcode\": \"https://leetcode.com/aneeshpatne\"\\n}',\n",
       "  'metadata': {'section': 'contact'}},\n",
       " {'id': 'education_1',\n",
       "  'text': '{\\n  \"degree\": \"M.Tech in Electronics and Telecommunication\",\\n  \"institution\": \"Veermata Jijabai Technological Institute\",\\n  \"location\": \"Mumbai, Maharashtra\",\\n  \"duration\": \"2023 - 2025\",\\n  \"details\": \"Specialized in Machine Learning and Signal Processing. Relevant coursework includes Advanced Algorithms, Neural Networks, and Communication Systems.\"\\n}',\n",
       "  'metadata': {'section': 'education'}},\n",
       " {'id': 'education_2',\n",
       "  'text': '{\\n  \"degree\": \"B.Tech in Electronics and Telecommunication\",\\n  \"institution\": \"Thakur College of Engineering and Technology\",\\n  \"location\": \"Mumbai, Maharashtra\",\\n  \"duration\": \"2019 - 2023\",\\n  \"details\": \"Graduated with First Class Honors. Engaged in multiple projects focusing on embedded systems and wireless communication.\"\\n}',\n",
       "  'metadata': {'section': 'education'}},\n",
       " {'id': 'skills',\n",
       "  'text': '{\\n  \"technical_skills\": [\\n    \"Python\",\\n    \"Machine Learning\",\\n    \"React\",\\n    \"Node.js\",\\n    \"TensorFlow\",\\n    \"MATLAB\",\\n    \"Express\",\\n    \"MongoDB\",\\n    \"Google Vertex AI\",\\n    \"SvelteKit\"\\n  ],\\n  \"soft_skills\": [\\n    \"Problem-Solving\",\\n    \"Team Leadership\",\\n    \"Effective Communication\",\\n    \"Adaptability\",\\n    \"Time Management\"\\n  ]\\n}',\n",
       "  'metadata': {'section': 'skills'}},\n",
       " {'id': 'project_1',\n",
       "  'text': '{\\n  \"title\": \"Socio-Economic Impact of Pollution on Life Expectancy\",\\n  \"description\": \"A machine learning project analyzing the impact of air pollution on life expectancy, integrating multiple socio-economic parameters.\",\\n  \"technologies_used\": [\\n    \"Machine Learning\",\\n    \"Google Vertex AI\",\\n    \"SvelteKit\",\\n    \"Express\"\\n  ],\\n  \"duration\": \"January 2024 - Present\",\\n  \"tags\": [\\n    \"Machine Learning\",\\n    \"Data Analysis\",\\n    \"Sustainability\"\\n  ]\\n}',\n",
       "  'metadata': {'section': 'project'}},\n",
       " {'id': 'project_2',\n",
       "  'text': '{\\n  \"title\": \"Personal Chatbot\",\\n  \"description\": \"Developed a chatbot to interactively present my resume, utilizing Retrieval-Augmented Generation (RAG) for accurate and context-specific responses.\",\\n  \"technologies_used\": [\\n    \"Python\",\\n    \"GPT-3\",\\n    \"Flask\",\\n    \"FAISS\"\\n  ],\\n  \"duration\": \"March 2023 - June 2023\",\\n  \"tags\": [\\n    \"Chatbot\",\\n    \"al Language Processing\",\\n    \"AI\",\\n    \"Web Development\"\\n  ]\\n}',\n",
       "  'metadata': {'section': 'project'}},\n",
       " {'id': 'project_3',\n",
       "  'text': '{\\n  \"title\": \"IoT and ML based Weather Prediction System\",\\n  \"description\": \"Designed and implemented an embedded system for automating household tasks, enhancing efficiency and reliability.\",\\n  \"technologies_used\": [\\n    \"C++\",\\n    \"Arduino\",\\n    \"IoT\"\\n  ],\\n  \"duration\": \"September 2022 - December 2022\",\\n  \"tags\": [\\n    \"Embedded Systems\",\\n    \"IoT\",\\n    \"Automation\",\\n    \"React\",\\n    \"NextJS\",\\n    \"Next\"\\n  ]\\n}',\n",
       "  'metadata': {'section': 'project'}}]"
      ]
     },
     "execution_count": 29,
     "metadata": {},
     "output_type": "execute_result"
    }
   ],
   "source": [
    "chunks"
   ]
  },
  {
   "cell_type": "code",
   "execution_count": 30,
   "metadata": {},
   "outputs": [],
   "source": [
    "for idx, cert in enumerate(resume_data[\"certifications\"], start=1):\n",
    "    cert_text = json.dumps(cert, indent=2)\n",
    "    chunks.append({\n",
    "        \"id\": f\"cert_{idx}\",\n",
    "        \"text\": cert_text,\n",
    "        \"metadata\": {\"section\": \"certification\"}\n",
    "    })\n"
   ]
  },
  {
   "cell_type": "code",
   "execution_count": 31,
   "metadata": {},
   "outputs": [],
   "source": [
    "vectors_to_upsert = []"
   ]
  },
  {
   "cell_type": "code",
   "execution_count": 32,
   "metadata": {},
   "outputs": [],
   "source": [
    "for chunk in chunks:\n",
    "    text = chunk[\"text\"]\n",
    "    chunk_id = chunk[\"id\"]\n",
    "    metadata = chunk[\"metadata\"]\n",
    "\n",
    "    # Embed the chunk\n",
    "    embedding = model.encode(text).tolist()\n",
    "\n",
    "    # Prepare the vector for upsert\n",
    "    vectors_to_upsert.append((chunk_id, embedding, metadata))"
   ]
  },
  {
   "cell_type": "code",
   "execution_count": 36,
   "metadata": {},
   "outputs": [],
   "source": [
    "embedding_dimension = len(embedding)\n"
   ]
  },
  {
   "cell_type": "code",
   "execution_count": 10,
   "metadata": {},
   "outputs": [],
   "source": [
    "pc = Pinecone(os.getenv(\"PINECONE_KEY\"))"
   ]
  },
  {
   "cell_type": "code",
   "execution_count": 12,
   "metadata": {},
   "outputs": [],
   "source": [
    "index_name = \"resume-index-full\""
   ]
  },
  {
   "cell_type": "code",
   "execution_count": 38,
   "metadata": {},
   "outputs": [
    {
     "name": "stdout",
     "output_type": "stream",
     "text": [
      "Index 'resume-index-full' is ready.\n"
     ]
    }
   ],
   "source": [
    "metric = \"cosine\"\n",
    "if index_name not in pc.list_indexes().names():\n",
    "    # Create the index\n",
    "    pc.create_index(\n",
    "        name=index_name,\n",
    "        dimension=embedding_dimension,\n",
    "        metric=metric,\n",
    "        spec=ServerlessSpec(\n",
    "            cloud=\"aws\",  # Choose your cloud provider\n",
    "            region=\"us-east-1\"  # Choose your region\n",
    "        )\n",
    "    )\n",
    "print(f\"Index '{index_name}' is ready.\")"
   ]
  },
  {
   "cell_type": "code",
   "execution_count": 13,
   "metadata": {},
   "outputs": [],
   "source": [
    "index = pc.Index(index_name)"
   ]
  },
  {
   "cell_type": "code",
   "execution_count": 41,
   "metadata": {},
   "outputs": [
    {
     "name": "stdout",
     "output_type": "stream",
     "text": [
      "Upserted 10 chunks into the Pinecone index: 'resume-index-full'\n"
     ]
    }
   ],
   "source": [
    "index.upsert(vectors=vectors_to_upsert)\n",
    "print(f\"Upserted {len(chunks)} chunks into the Pinecone index: '{index_name}'\")"
   ]
  },
  {
   "cell_type": "code",
   "execution_count": 17,
   "metadata": {},
   "outputs": [],
   "source": [
    "def query_index(query_text: str, top_k: int = 3):\n",
    "    q_embedding = model.encode(query_text).tolist()\n",
    "    results = index.query(\n",
    "        vector=q_embedding,\n",
    "        top_k=top_k,\n",
    "        include_metadata=True\n",
    "    )\n",
    "    print(f\"\\nQuery: {query_text}\")\n",
    "    print(f\"Top {top_k} Chunks:\\n\" + \"-\"*50)\n",
    "    for match in results.matches:\n",
    "        print(f\"Score: {match.score}\")\n",
    "        print(\"Section:\", match.metadata.get(\"section\", \"N/A\"))\n",
    "        print(\"-\" * 50)"
   ]
  },
  {
   "cell_type": "code",
   "execution_count": 16,
   "metadata": {},
   "outputs": [
    {
     "name": "stdout",
     "output_type": "stream",
     "text": [
      "\n",
      "Query: Does Aneesh Know React.JS ?\n",
      "Top 3 Chunks:\n",
      "--------------------------------------------------\n",
      "Score: 0.275810212\n",
      "Value: None\n",
      "Section: contact\n",
      "--------------------------------------------------\n",
      "Score: 0.244253948\n",
      "Value: None\n",
      "Section: skills\n",
      "--------------------------------------------------\n",
      "Score: 0.186942801\n",
      "Value: None\n",
      "Section: project\n",
      "--------------------------------------------------\n"
     ]
    }
   ],
   "source": [
    "user_query = \"Does Aneesh Know React.JS ?\"\n",
    "query_index(user_query, top_k=3)"
   ]
  }
 ],
 "metadata": {
  "kernelspec": {
   "display_name": ".venv",
   "language": "python",
   "name": "python3"
  },
  "language_info": {
   "codemirror_mode": {
    "name": "ipython",
    "version": 3
   },
   "file_extension": ".py",
   "mimetype": "text/x-python",
   "name": "python",
   "nbconvert_exporter": "python",
   "pygments_lexer": "ipython3",
   "version": "3.12.0"
  }
 },
 "nbformat": 4,
 "nbformat_minor": 2
}
