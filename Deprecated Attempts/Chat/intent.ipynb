{
 "cells": [
  {
   "cell_type": "code",
   "execution_count": 3,
   "metadata": {},
   "outputs": [],
   "source": [
    "import torch\n",
    "from transformers import AutoTokenizer, AutoModelForCausalLM"
   ]
  },
  {
   "cell_type": "code",
   "execution_count": 14,
   "metadata": {},
   "outputs": [
    {
     "name": "stderr",
     "output_type": "stream",
     "text": [
      "Some parameters are on the meta device because they were offloaded to the cpu.\n"
     ]
    }
   ],
   "source": [
    "model_path = '../models/Llama-3.2-1B-Instruct'\n",
    "tokenizer = AutoTokenizer.from_pretrained(model_path)\n",
    "model = AutoModelForCausalLM.from_pretrained(model_path, torch_dtype=torch.float16, device_map=\"auto\")"
   ]
  },
  {
   "cell_type": "code",
   "execution_count": 81,
   "metadata": {},
   "outputs": [],
   "source": [
    "user_input = \"Does Aneesh Know ReactJS ?\""
   ]
  },
  {
   "cell_type": "code",
   "execution_count": 108,
   "metadata": {},
   "outputs": [],
   "source": [
    "prompt = f\"\"\"\n",
    "You are an AI that classifies questions related to a resume. Classify each input question into one of the following categories:\n",
    "Do NOT include any other text, explanations, or punctuation.\n",
    "You MUST respond with ONE of the following categories ONLY: \"Technical Skills\", \"Experience\", \"Project\", \"Education\", or \"Not Related\".\n",
    "1. **Work Experience** - Questions about jobs, roles, responsibilities, or years of experience.\n",
    "2. **Projects** - Questions about personal or academic projects.\n",
    "3. **Skills** - Questions about technical or soft skills.\n",
    "4. **Irrelevant** - Questions that don't relate to work experience, projects, or skills in the resume.\n",
    "\n",
    "Return only one of the following words as your output: \"Work Experience\", \"Projects\", \"Skills\", or \"Irrelevant\".\n",
    "You will only return those words, and nothing else. no other words, no punctuation, no numbers, nothing else.\n",
    "\n",
    "### Examples:\n",
    "\n",
    "1. **Question:**  \n",
    "   \"Does Aneesh know React?\"  \n",
    "   **Output:**  \n",
    "   Skills\n",
    "\n",
    "2. **Question:**  \n",
    "   \"How many years of experience does Aneesh have with React?\"  \n",
    "   Work Experience\n",
    "\n",
    "3. **Question:**  \n",
    "   \"What projects has Aneesh worked on?\"  \n",
    "   **Output:**  \n",
    "   Projects\n",
    "\n",
    "4. **Question:**  \n",
    "   \"What is the capital of France?\"  \n",
    "   **Output:**  \n",
    "   Irrelevant\n",
    "\n",
    "5. **Question:**  \n",
    "   \"List Aneesh's responsibilities in his previous role.\"  \n",
    "   **Output:**  \n",
    "   Work Experience\n",
    "\n",
    "6. **Question:**  \n",
    "   \"What programming languages is Aneesh proficient in?\"  \n",
    "   **Output:**  \n",
    "   Skills\n",
    "\n",
    "### Input Question to Classify:\n",
    "\n",
    "{user_input}\n",
    "**Output:**\"\"\"\n"
   ]
  },
  {
   "cell_type": "code",
   "execution_count": 109,
   "metadata": {},
   "outputs": [],
   "source": [
    "inputs = tokenizer(prompt, return_tensors=\"pt\").to(\"cuda\")"
   ]
  },
  {
   "cell_type": "code",
   "execution_count": 112,
   "metadata": {},
   "outputs": [
    {
     "name": "stderr",
     "output_type": "stream",
     "text": [
      "Setting `pad_token_id` to `eos_token_id`:128009 for open-end generation.\n"
     ]
    },
    {
     "name": "stdout",
     "output_type": "stream",
     "text": [
      " Skills\n"
     ]
    }
   ],
   "source": [
    "output = model.generate(\n",
    "    **inputs,\n",
    "    max_new_tokens=50,\n",
    "    temperature=0.1,\n",
    "    eos_token_id=tokenizer.eos_token_id,\n",
    "    pad_token_id=tokenizer.pad_token_id,\n",
    ")\n",
    "\n",
    "input_length = inputs[\"input_ids\"].shape[1]\n",
    "new_tokens = output[0][input_length:]\n",
    "generated_text = tokenizer.decode(new_tokens, skip_special_tokens=True)\n",
    "print(generated_text)"
   ]
  }
 ],
 "metadata": {
  "kernelspec": {
   "display_name": "resume-chatbot",
   "language": "python",
   "name": "python3"
  },
  "language_info": {
   "codemirror_mode": {
    "name": "ipython",
    "version": 3
   },
   "file_extension": ".py",
   "mimetype": "text/x-python",
   "name": "python",
   "nbconvert_exporter": "python",
   "pygments_lexer": "ipython3",
   "version": "3.12.0"
  }
 },
 "nbformat": 4,
 "nbformat_minor": 2
}
