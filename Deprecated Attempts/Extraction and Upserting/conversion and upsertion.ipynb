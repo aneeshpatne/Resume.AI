{
 "cells": [
  {
   "cell_type": "code",
   "execution_count": 13,
   "metadata": {},
   "outputs": [],
   "source": [
    "from sentence_transformers import SentenceTransformer\n",
    "from pinecone import Pinecone, ServerlessSpec\n",
    "import os\n",
    "from dotenv import load_dotenv\n",
    "import re"
   ]
  },
  {
   "cell_type": "code",
   "execution_count": 2,
   "metadata": {},
   "outputs": [],
   "source": [
    "model = SentenceTransformer('all-MiniLM-L6-v2')"
   ]
  },
  {
   "cell_type": "code",
   "execution_count": 3,
   "metadata": {},
   "outputs": [],
   "source": [
    "with open('Aneesh_Patne-2.md', 'r') as file:\n",
    "    markdown_content = file.read()"
   ]
  },
  {
   "cell_type": "code",
   "execution_count": 4,
   "metadata": {},
   "outputs": [],
   "source": [
    "def segment_markdown(markdown_content):\n",
    "    segments = re.split(r'\\n\\n+', markdown_content.strip())\n",
    "    return [segment.strip() for segment in segments if segment.strip()]"
   ]
  },
  {
   "cell_type": "code",
   "execution_count": 5,
   "metadata": {},
   "outputs": [],
   "source": [
    "def generate_embeddings(segments):\n",
    "    embeddings = model.encode(segments, convert_to_tensor=True)\n",
    "    return [{\"text\": segment, \"embedding\": embedding} for segment, embedding in zip(segments, embeddings)]"
   ]
  },
  {
   "cell_type": "code",
   "execution_count": 6,
   "metadata": {},
   "outputs": [],
   "source": [
    "segments = segment_markdown(markdown_content)"
   ]
  },
  {
   "cell_type": "code",
   "execution_count": 7,
   "metadata": {},
   "outputs": [],
   "source": [
    "embeddings = generate_embeddings(segments)"
   ]
  },
  {
   "cell_type": "code",
   "execution_count": 8,
   "metadata": {},
   "outputs": [
    {
     "name": "stdout",
     "output_type": "stream",
     "text": [
      "Segment: ## Aneesh Patne\n",
      "Embedding: tensor([-0.0851, -0.0109,  0.0758, -0.0146, -0.0183], device='cuda:0') ...\n",
      "--------------------------------------------------------------------------------\n",
      "Segment: +91 0000000000 - xxxxxxxx@gmail.com - aneeshpatne.com - Linkedin - LeetCode - GitHub\n",
      "Embedding: tensor([-0.1158,  0.0272,  0.0062,  0.0147,  0.0203], device='cuda:0') ...\n",
      "--------------------------------------------------------------------------------\n",
      "Segment: EDUCATION\n",
      "Embedding: tensor([ 0.0309,  0.0999, -0.0206,  0.0770, -0.0156], device='cuda:0') ...\n",
      "--------------------------------------------------------------------------------\n",
      "Segment: ## Veermata Jijabai Technological Institute\n",
      "Embedding: tensor([-0.1242,  0.0387,  0.0512, -0.0556, -0.0129], device='cuda:0') ...\n",
      "--------------------------------------------------------------------------------\n",
      "Segment: Mumbai, Maharashtra\n",
      "Embedding: tensor([ 0.0101, -0.0051, -0.0412,  0.0403, -0.0042], device='cuda:0') ...\n",
      "--------------------------------------------------------------------------------\n",
      "Segment: M.Tech Electronics and Telecommunication\n",
      "Embedding: tensor([-0.0341,  0.0243,  0.0248, -0.0400, -0.0550], device='cuda:0') ...\n",
      "--------------------------------------------------------------------------------\n",
      "Segment: 2023 - 2025\n",
      "Embedding: tensor([-0.1021,  0.0161,  0.0200,  0.0007, -0.0425], device='cuda:0') ...\n",
      "--------------------------------------------------------------------------------\n",
      "Segment: ## Thakur College of Engineering and Technology\n",
      "Embedding: tensor([-0.0586,  0.0040,  0.0128,  0.0155,  0.0208], device='cuda:0') ...\n",
      "--------------------------------------------------------------------------------\n",
      "Segment: Mumbai, Maharashtra\n",
      "Embedding: tensor([ 0.0101, -0.0051, -0.0412,  0.0403, -0.0042], device='cuda:0') ...\n",
      "--------------------------------------------------------------------------------\n",
      "Segment: B.Tech Electronics and Telecommunication\n",
      "Embedding: tensor([-0.0552,  0.0084, -0.0071, -0.0726, -0.0847], device='cuda:0') ...\n",
      "--------------------------------------------------------------------------------\n",
      "Segment: 2019 - 2023\n",
      "Embedding: tensor([-0.1113,  0.0366, -0.0287, -0.0077, -0.0227], device='cuda:0') ...\n",
      "--------------------------------------------------------------------------------\n",
      "Segment: ## TECHNICAL SKILLS\n",
      "Embedding: tensor([-0.0015, -0.0202,  0.1044,  0.0251, -0.0374], device='cuda:0') ...\n",
      "--------------------------------------------------------------------------------\n",
      "Segment: - Â· Programming Languages: Python (Advanced), JavaScript, Java\n",
      "- Â· Databases: SQL, MongoDB, Redis\n",
      "- Â· Web Development: React, Next.js, SvelteKit, Tailwind CSS, HTML\n",
      "- Â· Machine Learning: Neural Networks , Extreme Learning Machines, Ensemble Models, Google Vertex AI.\n",
      "- Â· Cloud Platforms: Google Cloud Platform (App Engine, Compute Engine, BigQuery, Maps API, Authentication)\n",
      "- Â· Data Structures and Algorithms: Solved 500+ coding problems demonstrating strong problem-solving skills.\n",
      "- Â· Large Language Models: LoRA fine-tuning, prompt engineering, API integration, and custom chatbots. PROJECTS\n",
      "- Â· Resume.AI : Resume ChatBot\n",
      "Embedding: tensor([-0.1028, -0.0867,  0.0411,  0.0228,  0.0217], device='cuda:0') ...\n",
      "--------------------------------------------------------------------------------\n",
      "Segment: Dec 2024 - Present\n",
      "Embedding: tensor([-0.0642,  0.0694,  0.0107, -0.0706, -0.0790], device='cuda:0') ...\n",
      "--------------------------------------------------------------------------------\n",
      "Segment: ( LLM, Fine Tuning ,Huggingface)\n",
      "Embedding: tensor([-0.0349, -0.0581,  0.0558, -0.0481, -0.0070], device='cuda:0') ...\n",
      "--------------------------------------------------------------------------------\n",
      "Segment: - Â· A LLaMA 3.2 1B finetuned resume chatbotcapable of engaging in conversation about my professional journey.\n",
      "- Â· Leveraged LoRA (Low-Rank Adaptation) for efficient fine-tuning of the LLaMA model, combined with advanced prompt engineering techniques to optimize conversational flow\n",
      "Embedding: tensor([-0.0479, -0.0518,  0.0270,  0.0041,  0.0007], device='cuda:0') ...\n",
      "--------------------------------------------------------------------------------\n",
      "Segment: Technologies Used: Huggingface Transformers, LoRA (Low-Rank Adaptation), PyTorch, Python, Prompt Engineering\n",
      "Embedding: tensor([-0.1559,  0.0014,  0.0132, -0.0595, -0.0130], device='cuda:0') ...\n",
      "--------------------------------------------------------------------------------\n",
      "Segment: - Â· Personal Portfolio\n",
      "Embedding: tensor([-0.0281,  0.0359, -0.0597, -0.0137, -0.0150], device='cuda:0') ...\n",
      "--------------------------------------------------------------------------------\n",
      "Segment: June 2024- Sept 2024\n",
      "Embedding: tensor([-0.0242, -0.0037,  0.0012, -0.0249, -0.0776], device='cuda:0') ...\n",
      "--------------------------------------------------------------------------------\n",
      "Segment: (Web Development, NextJS, MonogDB)\n",
      "Embedding: tensor([-0.0724, -0.0512,  0.0271,  0.0084, -0.0291], device='cuda:0') ...\n",
      "--------------------------------------------------------------------------------\n",
      "Segment: - Â· Scalable portfolio platform with Next.js, leveraging server-side rendering (SSR) a for optimal performance and SEO, hosted on Vercel.\n",
      "- Â· Built modular React components with custom hooks for state management, enabling theme switching, project showcases, and real-time data fetching via APIs.\n",
      "Embedding: tensor([-0.1148, -0.0041, -0.0547,  0.0144,  0.0348], device='cuda:0') ...\n",
      "--------------------------------------------------------------------------------\n",
      "Segment: Technologies Used: NextJS, MongoDB, Redis\n",
      "Embedding: tensor([-0.0667,  0.0029, -0.0843,  0.0247,  0.0248], device='cuda:0') ...\n",
      "--------------------------------------------------------------------------------\n",
      "Segment: - Â· Socio-Economic Impact of Pollution on Life Expectancy\n",
      "Embedding: tensor([0.0361, 0.0670, 0.0526, 0.0289, 0.0716], device='cuda:0') ...\n",
      "--------------------------------------------------------------------------------\n",
      "Segment: 2024 Onwards\n",
      "Embedding: tensor([-0.0148,  0.0315,  0.0044, -0.0462, -0.0896], device='cuda:0') ...\n",
      "--------------------------------------------------------------------------------\n",
      "Segment: ( Machine Learning (ML), Full Stack Web Development )\n",
      "Embedding: tensor([-0.0440, -0.1399,  0.0431,  0.0386,  0.0076], device='cuda:0') ...\n",
      "--------------------------------------------------------------------------------\n",
      "Segment: - Â· A ML project to quantify the impact of air pollution on life expectancy, integrating multiple socio-economic parameters.\n",
      "- Â· ML model used to analyze the relationships between socio-economic drivers and life expectancy, aimed at facilitating effective policy-making.\n",
      "Embedding: tensor([ 0.0549, -0.0229,  0.0446,  0.0505,  0.0627], device='cuda:0') ...\n",
      "--------------------------------------------------------------------------------\n",
      "Segment: Technologies Used: Machine Learning, Google Vertex AI, SvelteKit, Express\n",
      "Embedding: tensor([-0.1009, -0.0567,  0.0153,  0.0152, -0.0061], device='cuda:0') ...\n",
      "--------------------------------------------------------------------------------\n",
      "Segment: - Â· Vishv: Google Solution Challenge Project\n",
      "Embedding: tensor([-0.0955,  0.0343,  0.0463, -0.0747,  0.0684], device='cuda:0') ...\n",
      "--------------------------------------------------------------------------------\n",
      "Segment: Jan 2024 - April 2024\n",
      "Embedding: tensor([-0.0564,  0.0559,  0.0332,  0.0202, -0.0503], device='cuda:0') ...\n",
      "--------------------------------------------------------------------------------\n",
      "Segment: ( Machine Learning (ML), Full Stack Web Development, Deployment on Vercel & GCP )\n",
      "Embedding: tensor([-0.0506, -0.1406,  0.0518, -0.0271,  0.0038], device='cuda:0') ...\n",
      "--------------------------------------------------------------------------------\n",
      "Segment: - Â· A web application to promote awareness on climate change and quality education, incorporating an inclusive color-blindness-friendly interface , featured ML-driven AQI predictions.\n",
      "- Â· Leveraged multiple Google Cloud Platform services for implementation and deployment.\n",
      "Embedding: tensor([-0.0427, -0.0289,  0.0578,  0.0279,  0.0446], device='cuda:0') ...\n",
      "--------------------------------------------------------------------------------\n",
      "Segment: Technologies Used: Django, React, Django REST Framework, Google OAuth 2.0, Google Cloud Platform (App Engine, Firebase, AutoML, Google Maps API, Google Cloud SQL ).\n",
      "Embedding: tensor([-0.0606, -0.0757,  0.0450, -0.0563,  0.0158], device='cuda:0') ...\n",
      "--------------------------------------------------------------------------------\n",
      "Segment: ## CERTIFICATIONS\n",
      "Embedding: tensor([ 0.0074, -0.0011,  0.0625,  0.0260,  0.0059], device='cuda:0') ...\n",
      "--------------------------------------------------------------------------------\n",
      "Segment: - Â· Google ML Engineer Professional (Coursera)\n",
      "- Â· Introduction to ML (NPTEL)\n",
      "- Â· Python for Data Science (NPTEL) (TOP 5% Ranker)\n",
      "Embedding: tensor([-0.0662, -0.0824, -0.0068,  0.0252, -0.0221], device='cuda:0') ...\n",
      "--------------------------------------------------------------------------------\n",
      "Segment: CO-CURRICULAR ACTIVITIES\n",
      "Embedding: tensor([ 0.0416, -0.0250, -0.0084, -0.0554, -0.0423], device='cuda:0') ...\n",
      "--------------------------------------------------------------------------------\n",
      "Segment: - Â· Participated in GDSC SOLUTIONS CHALLENGE 2024.\n",
      "- Â·\n",
      "- Participated in SMART INDIA HACKATHON 2024. SOFT SKILLS\n",
      "- Â· Excellent Communication, Team Work, Adaptability\n",
      "## Aneesh Patne\n",
      "Embedding: tensor([-0.1331, -0.0314,  0.0403, -0.0256, -0.0085], device='cuda:0') ...\n",
      "--------------------------------------------------------------------------------\n",
      "Segment: +91 0000000000 - xxxxxxxxxxxx@gmail.com - aneeshpatne.com - Linkedin - LeetCode - GitHub\n",
      "Embedding: tensor([-0.1119,  0.0254,  0.0036,  0.0109,  0.0241], device='cuda:0') ...\n",
      "--------------------------------------------------------------------------------\n",
      "Segment: EDUCATION\n",
      "Embedding: tensor([ 0.0309,  0.0999, -0.0206,  0.0770, -0.0156], device='cuda:0') ...\n",
      "--------------------------------------------------------------------------------\n",
      "Segment: ## Veermata Jijabai Technological Institute\n",
      "Embedding: tensor([-0.1242,  0.0387,  0.0512, -0.0556, -0.0129], device='cuda:0') ...\n",
      "--------------------------------------------------------------------------------\n",
      "Segment: Mumbai, Maharashtra\n",
      "Embedding: tensor([ 0.0101, -0.0051, -0.0412,  0.0403, -0.0042], device='cuda:0') ...\n",
      "--------------------------------------------------------------------------------\n",
      "Segment: M.Tech Electronics and Telecommunication\n",
      "Embedding: tensor([-0.0341,  0.0243,  0.0248, -0.0400, -0.0550], device='cuda:0') ...\n",
      "--------------------------------------------------------------------------------\n",
      "Segment: 2023 - 2025\n",
      "Embedding: tensor([-0.1021,  0.0161,  0.0200,  0.0007, -0.0425], device='cuda:0') ...\n",
      "--------------------------------------------------------------------------------\n",
      "Segment: ## Thakur College of Engineering and Technology\n",
      "Embedding: tensor([-0.0586,  0.0040,  0.0128,  0.0155,  0.0208], device='cuda:0') ...\n",
      "--------------------------------------------------------------------------------\n",
      "Segment: Mumbai, Maharashtra\n",
      "Embedding: tensor([ 0.0101, -0.0051, -0.0412,  0.0403, -0.0042], device='cuda:0') ...\n",
      "--------------------------------------------------------------------------------\n",
      "Segment: B.Tech Electronics and Telecommunication\n",
      "Embedding: tensor([-0.0552,  0.0084, -0.0071, -0.0726, -0.0847], device='cuda:0') ...\n",
      "--------------------------------------------------------------------------------\n",
      "Segment: 2019 - 2023\n",
      "Embedding: tensor([-0.1113,  0.0366, -0.0287, -0.0077, -0.0227], device='cuda:0') ...\n",
      "--------------------------------------------------------------------------------\n",
      "Segment: ## TECHNICAL SKILLS\n",
      "Embedding: tensor([-0.0015, -0.0202,  0.1044,  0.0251, -0.0374], device='cuda:0') ...\n",
      "--------------------------------------------------------------------------------\n",
      "Segment: - Â· Programming Languages: Python (Advanced), JavaScript, Java\n",
      "- Â· Databases: SQL, MongoDB, Redis\n",
      "- Â· Web Development: React, Next.js, SvelteKit, Tailwind CSS, HTML\n",
      "- Â· Machine Learning: Neural Networks , Extreme Learning Machines, Ensemble Models, Google Vertex AI.\n",
      "- Â· Cloud Platforms: Google Cloud Platform (App Engine, Compute Engine, BigQuery, Maps API, Authentication)\n",
      "- Â· Data Structures and Algorithms: Solved 500+ coding problems demonstrating strong problem-solving skills.\n",
      "- Â· Large Language Models: LoRA fine-tuning, prompt engineering, API integration, and custom chatbots. PROJECTS\n",
      "- Â· Resume.AI : Resume ChatBot\n",
      "Embedding: tensor([-0.1028, -0.0867,  0.0411,  0.0228,  0.0217], device='cuda:0') ...\n",
      "--------------------------------------------------------------------------------\n",
      "Segment: Dec 2024 - Present\n",
      "Embedding: tensor([-0.0642,  0.0694,  0.0107, -0.0706, -0.0790], device='cuda:0') ...\n",
      "--------------------------------------------------------------------------------\n",
      "Segment: ( LLM, Fine Tuning ,Huggingface)\n",
      "Embedding: tensor([-0.0349, -0.0581,  0.0558, -0.0481, -0.0070], device='cuda:0') ...\n",
      "--------------------------------------------------------------------------------\n",
      "Segment: - Â· A LLaMA 3.2 1B finetuned resume chatbotcapable of engaging in conversation about my professional journey.\n",
      "- Â· Leveraged LoRA (Low-Rank Adaptation) for efficient fine-tuning of the LLaMA model, combined with advanced prompt engineering techniques to optimize conversational flow\n",
      "Embedding: tensor([-0.0479, -0.0518,  0.0270,  0.0041,  0.0007], device='cuda:0') ...\n",
      "--------------------------------------------------------------------------------\n",
      "Segment: Technologies Used: Huggingface Transformers, LoRA (Low-Rank Adaptation), PyTorch, Python, Prompt Engineering\n",
      "Embedding: tensor([-0.1559,  0.0014,  0.0132, -0.0595, -0.0130], device='cuda:0') ...\n",
      "--------------------------------------------------------------------------------\n",
      "Segment: - Â· Personal Portfolio\n",
      "Embedding: tensor([-0.0281,  0.0359, -0.0597, -0.0137, -0.0150], device='cuda:0') ...\n",
      "--------------------------------------------------------------------------------\n",
      "Segment: June 2024- Sept 2024\n",
      "Embedding: tensor([-0.0242, -0.0037,  0.0012, -0.0249, -0.0776], device='cuda:0') ...\n",
      "--------------------------------------------------------------------------------\n",
      "Segment: (Web Development, NextJS, MonogDB)\n",
      "Embedding: tensor([-0.0724, -0.0512,  0.0271,  0.0084, -0.0291], device='cuda:0') ...\n",
      "--------------------------------------------------------------------------------\n",
      "Segment: - Â· Scalable portfolio platform with Next.js, leveraging server-side rendering (SSR) a for optimal performance and SEO, hosted on Vercel.\n",
      "- Â· Built modular React components with custom hooks for state management, enabling theme switching, project showcases, and real-time data fetching via APIs.\n",
      "Embedding: tensor([-0.1148, -0.0041, -0.0547,  0.0144,  0.0348], device='cuda:0') ...\n",
      "--------------------------------------------------------------------------------\n",
      "Segment: Technologies Used: NextJS, MongoDB, Redis\n",
      "Embedding: tensor([-0.0667,  0.0029, -0.0843,  0.0247,  0.0248], device='cuda:0') ...\n",
      "--------------------------------------------------------------------------------\n",
      "Segment: - Â· Socio-Economic Impact of Pollution on Life Expectancy\n",
      "Embedding: tensor([0.0361, 0.0670, 0.0526, 0.0289, 0.0716], device='cuda:0') ...\n",
      "--------------------------------------------------------------------------------\n",
      "Segment: 2024 Onwards\n",
      "Embedding: tensor([-0.0148,  0.0315,  0.0044, -0.0462, -0.0896], device='cuda:0') ...\n",
      "--------------------------------------------------------------------------------\n",
      "Segment: ( Machine Learning (ML), Full Stack Web Development )\n",
      "Embedding: tensor([-0.0440, -0.1399,  0.0431,  0.0386,  0.0076], device='cuda:0') ...\n",
      "--------------------------------------------------------------------------------\n",
      "Segment: - Â· A ML project to quantify the impact of air pollution on life expectancy, integrating multiple socio-economic parameters.\n",
      "- Â· ML model used to analyze the relationships between socio-economic drivers and life expectancy, aimed at facilitating effective policy-making.\n",
      "Embedding: tensor([ 0.0549, -0.0229,  0.0446,  0.0505,  0.0627], device='cuda:0') ...\n",
      "--------------------------------------------------------------------------------\n",
      "Segment: Technologies Used: Machine Learning, Google Vertex AI, SvelteKit, Express\n",
      "Embedding: tensor([-0.1009, -0.0567,  0.0153,  0.0152, -0.0061], device='cuda:0') ...\n",
      "--------------------------------------------------------------------------------\n",
      "Segment: - Â· Vishv: Google Solution Challenge Project\n",
      "Embedding: tensor([-0.0955,  0.0343,  0.0463, -0.0747,  0.0684], device='cuda:0') ...\n",
      "--------------------------------------------------------------------------------\n",
      "Segment: Jan 2024 - April 2024\n",
      "Embedding: tensor([-0.0564,  0.0559,  0.0332,  0.0202, -0.0503], device='cuda:0') ...\n",
      "--------------------------------------------------------------------------------\n",
      "Segment: ( Machine Learning (ML), Full Stack Web Development, Deployment on Vercel & GCP )\n",
      "Embedding: tensor([-0.0506, -0.1406,  0.0518, -0.0271,  0.0038], device='cuda:0') ...\n",
      "--------------------------------------------------------------------------------\n",
      "Segment: - Â· A web application to promote awareness on climate change and quality education, incorporating an inclusive color-blindness-friendly interface , featured ML-driven AQI predictions.\n",
      "- Â· Leveraged multiple Google Cloud Platform services for implementation and deployment.\n",
      "Embedding: tensor([-0.0427, -0.0289,  0.0578,  0.0279,  0.0446], device='cuda:0') ...\n",
      "--------------------------------------------------------------------------------\n",
      "Segment: Technologies Used: Django, React, Django REST Framework, Google OAuth 2.0, Google Cloud Platform (App Engine, Firebase, AutoML, Google Maps API, Google Cloud SQL ).\n",
      "Embedding: tensor([-0.0606, -0.0757,  0.0450, -0.0563,  0.0158], device='cuda:0') ...\n",
      "--------------------------------------------------------------------------------\n",
      "Segment: ## CERTIFICATIONS\n",
      "Embedding: tensor([ 0.0074, -0.0011,  0.0625,  0.0260,  0.0059], device='cuda:0') ...\n",
      "--------------------------------------------------------------------------------\n",
      "Segment: - Â· Google ML Engineer Professional (Coursera)\n",
      "- Â· Introduction to ML (NPTEL)\n",
      "- Â· Python for Data Science (NPTEL) (TOP 5% Ranker)\n",
      "Embedding: tensor([-0.0662, -0.0824, -0.0068,  0.0252, -0.0221], device='cuda:0') ...\n",
      "--------------------------------------------------------------------------------\n",
      "Segment: CO-CURRICULAR ACTIVITIES\n",
      "Embedding: tensor([ 0.0416, -0.0250, -0.0084, -0.0554, -0.0423], device='cuda:0') ...\n",
      "--------------------------------------------------------------------------------\n",
      "Segment: - Â· Participated in GDSC SOLUTIONS CHALLENGE 2024.\n",
      "- Â·\n",
      "- Participated in SMART INDIA HACKATHON 2024. SOFT SKILLS\n",
      "- Â· Excellent Communication, Team Work, Adaptability\n",
      "Embedding: tensor([-0.1323, -0.0343,  0.0304, -0.0215,  0.0047], device='cuda:0') ...\n",
      "--------------------------------------------------------------------------------\n"
     ]
    }
   ],
   "source": [
    "for item in embeddings:\n",
    "    print(\"Segment:\", item[\"text\"])\n",
    "    print(\"Embedding:\", item[\"embedding\"][:5], \"...\")  # Print first 5 values of the embedding for brevity\n",
    "    print(\"-\" * 80)"
   ]
  },
  {
   "cell_type": "code",
   "execution_count": 11,
   "metadata": {},
   "outputs": [
    {
     "data": {
      "text/plain": [
       "True"
      ]
     },
     "execution_count": 11,
     "metadata": {},
     "output_type": "execute_result"
    }
   ],
   "source": [
    "load_dotenv()"
   ]
  },
  {
   "cell_type": "code",
   "execution_count": 12,
   "metadata": {},
   "outputs": [],
   "source": [
    "pc = Pinecone(\n",
    "    api_key=os.getenv(\"PINECONE_KEY\"))"
   ]
  },
  {
   "cell_type": "code",
   "execution_count": 14,
   "metadata": {},
   "outputs": [
    {
     "name": "stdout",
     "output_type": "stream",
     "text": [
      "Index 'rag-resume-data-1' is ready.\n"
     ]
    }
   ],
   "source": [
    "index_name = \"rag-resume-data-1\"\n",
    "embedding_dim = 384\n",
    "metric = \"cosine\"\n",
    "if index_name not in pc.list_indexes().names():\n",
    "    # Create the index\n",
    "    pc.create_index(\n",
    "        name=index_name,\n",
    "        dimension=embedding_dim,\n",
    "        metric=metric,\n",
    "        spec=ServerlessSpec(\n",
    "            cloud=\"aws\",  # Choose your cloud provider\n",
    "            region=\"us-east-1\"  # Choose your region\n",
    "        )\n",
    "    )\n",
    "print(f\"Index '{index_name}' is ready.\")\n"
   ]
  },
  {
   "cell_type": "code",
   "execution_count": 20,
   "metadata": {},
   "outputs": [],
   "source": [
    "index = pc.Index('rag-resume-data-1')"
   ]
  },
  {
   "cell_type": "code",
   "execution_count": 23,
   "metadata": {},
   "outputs": [],
   "source": [
    "def save_embeddings_to_pinecone(segments):\n",
    "    embeddings = model.encode(segments, convert_to_tensor=False)\n",
    "    upserts = [\n",
    "        {\"id\": f\"segment-{i}\", \"values\": embeddings[i].tolist(), \"metadata\": {\"text\": segments[i]}}\n",
    "        for i in range(len(segments))\n",
    "    ]\n",
    "    index.upsert(vectors=upserts)\n",
    "    print(f\"Upserted {len(upserts)} segments to Pinecone.\")"
   ]
  },
  {
   "cell_type": "code",
   "execution_count": 24,
   "metadata": {},
   "outputs": [
    {
     "name": "stdout",
     "output_type": "stream",
     "text": [
      "Upserted 71 segments to Pinecone.\n"
     ]
    }
   ],
   "source": [
    "save_embeddings_to_pinecone(segments)"
   ]
  },
  {
   "cell_type": "code",
   "execution_count": 25,
   "metadata": {},
   "outputs": [],
   "source": [
    "def embeded_input(text):\n",
    "    return model.encode([text])[0].tolist()"
   ]
  },
  {
   "cell_type": "code",
   "execution_count": 28,
   "metadata": {},
   "outputs": [
    {
     "name": "stdout",
     "output_type": "stream",
     "text": [
      "[-0.013240753673017025, 0.00530521385371685, 0.017008282244205475, 0.023842858150601387, 0.011986448429524899, 0.03599923849105835, 0.12794603407382965, -0.045647088438272476, 0.002487019170075655, 0.037020452320575714, -0.011012700386345387, -0.08413926512002945, -0.011481170542538166, 0.03138140216469765, -0.024311399087309837, 0.0415307953953743, 0.024881917983293533, -0.08573972433805466, -0.039645858108997345, -0.05428287014365196, -0.06969363987445831, 0.012839214876294136, 0.06143064796924591, -0.01825057715177536, -0.07224048674106598, 0.031244225800037384, 0.017644992098212242, 2.598902938188985e-05, 0.010947935283184052, -0.0429825484752655, 0.026075579226017, 0.034756459295749664, 0.0017463566036894917, 0.022537557408213615, -0.03317252919077873, 0.12354178726673126, 0.054611340165138245, 0.03680451959371567, -0.07695917785167694, 0.040380269289016724, 0.010807269252836704, -0.05370583012700081, 0.018135225400328636, -0.04715479910373688, -0.02445712685585022, 0.04479418322443962, 0.016902290284633636, -0.007896251045167446, 0.0019069663248956203, -0.0738554522395134, -0.014999166131019592, -0.03632492199540138, 0.04771487042307854, -0.06474918872117996, -0.008606810122728348, 0.017578117549419403, 0.045690495520830154, 0.0007558243232779205, -0.030819615349173546, -0.004640804138034582, -0.036268047988414764, -0.010298683308064938, -0.03230733051896095, 0.05347318574786186, 0.02434692718088627, 0.06297429651021957, 0.013803422451019287, -0.0910274013876915, -0.03330017253756523, -0.003275893861427903, 0.03178193047642708, -0.06341806799173355, 0.1089579164981842, -0.0768958106637001, 0.022183913737535477, 0.014824518002569675, 0.07356343418359756, -0.03937733545899391, 0.04824148491024971, -0.013744060881435871, -0.030550500378012657, -0.10486394166946411, -0.010691740550100803, 0.041967712342739105, -0.018152941018342972, -0.04249882325530052, -0.018952662125229836, -0.01994473673403263, -0.060633379966020584, 0.026806361973285675, -0.029335614293813705, -0.1063118502497673, -0.00467842910438776, -0.014975289814174175, -0.022940276190638542, 0.03633179888129234, -0.07821724563837051, 0.029110999777913094, -0.10174719989299774, 0.044621750712394714, -0.017141077667474747, 0.09301187843084335, -0.059922412037849426, -0.0004350672534201294, -0.028535079210996628, 0.03137717396020889, -0.08006662130355835, -0.04953917860984802, 0.06802205741405487, 0.04335056245326996, -0.046325694769620895, -0.06652404367923737, 0.06939743459224701, 0.028476284816861153, 0.02946263737976551, 0.01761922799050808, -0.05439913272857666, -0.02535063400864601, -0.049372076988220215, -0.039370544254779816, 0.07614029198884964, -0.0026568567845970392, 0.013312949799001217, 0.13199011981487274, 0.002624533139169216, 0.018724041059613228, -0.06547858566045761, -3.1994292999994084e-33, 0.06945857405662537, 0.041150860488414764, 0.0445704348385334, 0.01364291924983263, -0.032570287585258484, 0.029394136741757393, -0.011676358059048653, -0.02166878804564476, 0.09994102269411087, -0.04877031221985817, -0.05059817433357239, 0.03460896015167236, 0.04006478935480118, 0.012211417779326439, -0.084363654255867, 0.06983789801597595, -0.022724639624357224, -0.017099831253290176, -0.05716552212834358, -0.03709647059440613, -0.05597180873155594, 0.012466199696063995, -0.020387206226587296, -0.027222517877817154, 0.05816245451569557, -0.0024167424999177456, -0.029064994305372238, 0.05552060157060623, -0.01670658215880394, 0.013203888200223446, -0.07428921014070511, 0.03006967529654503, -0.07030973583459854, -0.02082567848265171, -0.009326504543423653, 0.004058429505676031, -0.03931017592549324, 0.03791866824030876, -0.02876821905374527, -0.0492013581097126, 0.006904366426169872, 0.006852055434137583, -0.04752660170197487, 0.03315870463848114, -0.02295532077550888, 0.01561679132282734, 0.007031370885670185, -0.037009287625551224, 0.02039487101137638, 0.0017243551556020975, 0.04590197280049324, -0.001938828849233687, 0.05254637822508812, -0.051261864602565765, 0.014370869845151901, 0.11053893715143204, 0.006444284226745367, -0.01552311610430479, 0.09654118865728378, 0.0740935280919075, 0.016701381653547287, -0.01643417403101921, 0.013480446301400661, -0.013303297571837902, -0.03830043226480484, 0.06754947453737259, 0.000562908302526921, -0.029014993458986282, -0.02655087597668171, 0.016956839710474014, -0.04027749225497246, 0.07386957854032516, 0.05474116653203964, 0.011389621533453465, -0.07969425618648529, -0.08641012012958527, -0.009811289608478546, 0.013810076750814915, 0.06187434494495392, -0.10646390169858932, 0.08082535862922668, -0.08622021973133087, 0.008076860569417477, 0.09517176449298859, -0.03255945444107056, -0.041591182351112366, -0.0007098859059624374, -0.021398143842816353, -0.011364712379872799, 0.02680661529302597, 0.02602989785373211, -0.0020589265041053295, 0.0696091279387474, -0.046920936554670334, -0.015083743259310722, 2.530890535609493e-34, -0.05443810671567917, 0.031011225655674934, -0.09170855581760406, -0.016198469325900078, -0.007094729226082563, -0.006070953328162432, 0.03405417874455452, 0.14329126477241516, 0.017095064744353294, -0.02642044983804226, 0.04631630703806877, 0.028175538405776024, -0.028119590133428574, -0.05307842791080475, 0.007997121661901474, 0.03952406346797943, 0.18729841709136963, 0.06134848669171333, 0.039869923144578934, -0.05408048257231712, -0.04747689142823219, -0.04883436858654022, -0.018592994660139084, 0.05642479285597801, -0.028545573353767395, 0.013886608183383942, 0.03211168944835663, -0.08176741003990173, -0.0596887432038784, -0.02340785227715969, 0.0693812146782875, -0.002265295246616006, -0.0667363777756691, 0.051218751817941666, 0.01694483682513237, 0.018198005855083466, -0.0764976516366005, -0.02269526943564415, -0.07591807097196579, -0.009161839261651039, 0.03416795656085014, 0.06744103133678436, -0.06787074357271194, 0.08126164227724075, 0.01757332682609558, 0.043421197682619095, 0.0027633190620690584, 0.07400205731391907, 0.02913757972419262, -0.03498420864343643, -0.003157669445499778, -0.010756008327007294, 0.06486963480710983, -0.07510478794574738, -0.03114761784672737, 0.014989485032856464, 0.013668970204889774, -0.00573708675801754, -0.03915257751941681, -0.04600067436695099, 0.03664794936776161, -0.06792658567428589, -0.029265500605106354, 0.05113402009010315, -0.008856754750013351, -0.017694618552923203, -0.10089737921953201, -0.015656402334570885, 0.1620258390903473, 0.05585138127207756, 0.12482285499572754, 0.004657605662941933, -0.11947688460350037, -0.06092378497123718, 0.03139403089880943, -0.02811388485133648, -0.08470302075147629, -0.11580437421798706, -0.05082104355096817, -0.0442606545984745, -0.06211712583899498, 0.04244730994105339, 0.05560547858476639, -0.01795203424990177, 0.05039851740002632, 0.04755277931690216, 0.018325699493288994, -0.017748065292835236, 0.043347809463739395, -0.023090573027729988, 0.027111398056149483, 0.07252632826566696, -0.036166001111269, -0.019796378910541534, -0.01494024507701397, -1.5766437044817394e-08, 0.009485852904617786, -0.023253558203577995, 0.10060475766658783, -0.06808355450630188, 0.023312468081712723, 0.08062788844108582, 0.005395465064793825, -0.021579885855317116, -0.0742594376206398, -0.03695444390177727, 0.0019426681101322174, 0.06105896085500717, 0.06422651559114456, 0.04096414893865585, 0.04785936698317528, 0.0954849123954773, 0.09489083290100098, -0.041170209646224976, -0.053239982575178146, 0.030107807368040085, -0.02410702221095562, 0.018739422783255577, -0.015103521756827831, 0.02194257639348507, -0.0231544841080904, 0.0009073038818314672, -0.017673566937446594, 0.027386656031012535, -0.03572294861078262, 0.02568001300096512, 0.012331846170127392, -0.04410243034362793, -0.060239411890506744, -0.05099243298172951, 0.0957585796713829, -0.015576030127704144, 0.07134408503770828, -0.002376958029344678, 0.0735108032822609, -0.027222517877817154, -0.059471216052770615, 0.04006374254822731, 0.05130196735262871, 0.05547754839062691, -0.05373218283057213, 0.00867676641792059, 0.05161167308688164, -0.12658068537712097, 0.022760111838579178, 0.01125600840896368, 0.018283121287822723, 0.005416104570031166, -0.0406225211918354, 0.010892937891185284, 0.0678175687789917, -0.15147115290164948, -0.04240971431136131, -0.006609287578612566, 0.06464345753192902, -0.08418504893779755, 0.08542890101671219, -0.026998884975910187, -0.0287930890917778, -0.014169040136039257]\n"
     ]
    }
   ],
   "source": [
    "query = \"Does Aneesh Know React?\"\n",
    "query_embedding = embeded_input(query)\n",
    "print(query_embedding)"
   ]
  },
  {
   "cell_type": "code",
   "execution_count": 29,
   "metadata": {},
   "outputs": [
    {
     "data": {
      "text/plain": [
       "{'matches': [{'id': 'segment-0',\n",
       "              'metadata': {'text': '## Aneesh Patne'},\n",
       "              'score': 0.326395512,\n",
       "              'values': []},\n",
       "             {'id': 'segment-37',\n",
       "              'metadata': {'text': 'EDUCATION'},\n",
       "              'score': 0.160454094,\n",
       "              'values': []},\n",
       "             {'id': 'segment-2',\n",
       "              'metadata': {'text': 'EDUCATION'},\n",
       "              'score': 0.160454094,\n",
       "              'values': []},\n",
       "             {'id': 'segment-14',\n",
       "              'metadata': {'text': '( LLM, Fine Tuning ,Huggingface)'},\n",
       "              'score': 0.155857936,\n",
       "              'values': []},\n",
       "             {'id': 'segment-49',\n",
       "              'metadata': {'text': '( LLM, Fine Tuning ,Huggingface)'},\n",
       "              'score': 0.155857936,\n",
       "              'values': []}],\n",
       " 'namespace': '',\n",
       " 'usage': {'read_units': 6}}"
      ]
     },
     "execution_count": 29,
     "metadata": {},
     "output_type": "execute_result"
    }
   ],
   "source": [
    "results = index.query(vector=query_embedding, top_k=5, include_metadata=True)\n",
    "results"
   ]
  }
 ],
 "metadata": {
  "kernelspec": {
   "display_name": ".venv",
   "language": "python",
   "name": "python3"
  },
  "language_info": {
   "codemirror_mode": {
    "name": "ipython",
    "version": 3
   },
   "file_extension": ".py",
   "mimetype": "text/x-python",
   "name": "python",
   "nbconvert_exporter": "python",
   "pygments_lexer": "ipython3",
   "version": "3.12.0"
  }
 },
 "nbformat": 4,
 "nbformat_minor": 2
}
