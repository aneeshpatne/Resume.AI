{
 "cells": [
  {
   "cell_type": "code",
   "execution_count": 2,
   "metadata": {},
   "outputs": [],
   "source": [
    "import json"
   ]
  },
  {
   "cell_type": "code",
   "execution_count": 14,
   "metadata": {},
   "outputs": [
    {
     "name": "stdout",
     "output_type": "stream",
     "text": [
      "['Summary: A dedicated Electronics and Telecommunication professional with a strong background in machine learning, web development, and cloud platforms. Proven ability to lead projects, solve complex problems, and continuously learn new technologies to drive innovation and efficiency.', 'Contact: Name: Aneesh Patne, Email: aneeshpatne12@gmail.com, Linkedin: https://www.linkedin.com/in/aneeshpatne, Github: https://github.com/aneeshpatne, Leetcode: https://leetcode.com/aneeshpatne', 'Education:\\nDegree: M.Tech in Electronics and Telecommunication\\nInstitution: Veermata Jijabai Technological Institute\\nLocation: Mumbai, Maharashtra\\nDuration: 2023 - 2025\\nDetails: Specialized in Machine Learning and Signal Processing. Relevant coursework includes Advanced Algorithms, Neural Networks, and Communication Systems.', 'Education:\\nDegree: B.Tech in Electronics and Telecommunication\\nInstitution: Thakur College of Engineering and Technology\\nLocation: Mumbai, Maharashtra\\nDuration: 2019 - 2023\\nDetails: Graduated with First Class Honors. Engaged in multiple projects focusing on embedded systems and wireless communication.', \"Experience:\\nTitle: Software Engineer Intern\\nCompany: Tech Innovators Pvt. Ltd.\\nLocation: Mumbai, Maharashtra\\nDuration: June 2022 - August 2022\\nResponsibilities: ['Developed scalable web applications using React and Node.js.', 'Collaborated with cross-functional teams to define project requirements and deliverables.', 'Implemented RESTful APIs to enhance application functionality and performance.']\\nTechnologies Used: ['React', 'Node.js', 'Express', 'MongoDB']\", \"Experience:\\nTitle: Research Assistant\\nCompany: AI Research Lab, VJTI\\nLocation: Mumbai, Maharashtra\\nDuration: September 2023 - Present\\nResponsibilities: ['Conducted research on machine learning algorithms for signal processing.', 'Developed and fine-tuned models to improve data accuracy and processing speed.', 'Published findings in reputable journals and presented at conferences.']\\nTechnologies Used: ['Python', 'TensorFlow', 'MATLAB', 'LaTeX']\", \"Skills: Technical_Skills: ['Python', 'Machine Learning', 'React', 'Node.js', 'TensorFlow', 'MATLAB', 'Express', 'MongoDB', 'Google Vertex AI', 'SvelteKit'], Soft_Skills: ['Problem-Solving', 'Team Leadership', 'Effective Communication', 'Adaptability', 'Time Management']\", \"Projects:\\nTitle: Socio-Economic Impact of Pollution on Life Expectancy\\nDescription: A machine learning project analyzing the impact of air pollution on life expectancy, integrating multiple socio-economic parameters.\\nTechnologies Used: ['Machine Learning', 'Google Vertex AI', 'SvelteKit', 'Express']\\nDuration: January 2024 - Present\\nTags: ['Machine Learning', 'Data Analysis', 'Sustainability']\", \"Projects:\\nTitle: Personal Chatbot\\nDescription: Developed a chatbot to interactively present my resume, utilizing Retrieval-Augmented Generation (RAG) for accurate and context-specific responses.\\nTechnologies Used: ['Python', 'GPT-3', 'Flask', 'FAISS']\\nDuration: March 2023 - June 2023\\nTags: ['Chatbot', 'Natural Language Processing', 'AI', 'Web Development']\", \"Projects:\\nTitle: Embedded Systems Automation\\nDescription: Designed and implemented an embedded system for automating household tasks, enhancing efficiency and reliability.\\nTechnologies Used: ['C++', 'Arduino', 'IoT']\\nDuration: September 2022 - December 2022\\nTags: ['Embedded Systems', 'IoT', 'Automation']\", 'Certifications:\\nTitle: Machine Learning Specialist\\nIssuing Organization: Coursera\\nDate Awarded: June 2023\\nCredential Id: ML12345', 'Certifications:\\nTitle: Full Stack Web Development\\nIssuing Organization: Udemy\\nDate Awarded: April 2022\\nCredential Id: FSWD67890']\n"
     ]
    }
   ],
   "source": [
    "with open('data.json', 'r') as file:\n",
    "    resume = json.load(file)\n",
    "def create_documents_dynamic(resume):\n",
    "    documents = []\n",
    "\n",
    "    for key, value in resume.items():\n",
    "        if isinstance(value, dict):  # Handle nested dictionary (e.g., contact information)\n",
    "            section = f\"{key.replace('_', ' ').title()}: \" + \", \".join(\n",
    "                f\"{sub_key.title()}: {sub_value}\" for sub_key, sub_value in value.items()\n",
    "            )\n",
    "            documents.append(section)\n",
    "\n",
    "        elif isinstance(value, list):  # Handle lists (e.g., education, projects)\n",
    "            for item in value:\n",
    "                if isinstance(item, dict):  # Handle list of dictionaries\n",
    "                    section = f\"{key.replace('_', ' ').title()}:\\n\" + \"\\n\".join(\n",
    "                        f\"{sub_key.replace('_', ' ').title()}: {sub_value}\" for sub_key, sub_value in item.items()\n",
    "                    )\n",
    "                    documents.append(section)\n",
    "                else:  # Handle plain list\n",
    "                    documents.append(f\"{key.replace('_', ' ').title()}: {', '.join(value)}\")\n",
    "        \n",
    "        elif isinstance(value, str):  # Handle plain string fields\n",
    "            documents.append(f\"{key.replace('_', ' ').title()}: {value}\")\n",
    "        \n",
    "        else:  # Handle unexpected formats\n",
    "            documents.append(f\"{key.replace('_', ' ').title()}: {value}\")\n",
    "\n",
    "    return documents\n",
    "\n",
    "# Example Usage\n",
    "documents = create_documents_dynamic(resume)\n",
    "print(documents)"
   ]
  }
 ],
 "metadata": {
  "kernelspec": {
   "display_name": ".venv",
   "language": "python",
   "name": "python3"
  },
  "language_info": {
   "codemirror_mode": {
    "name": "ipython",
    "version": 3
   },
   "file_extension": ".py",
   "mimetype": "text/x-python",
   "name": "python",
   "nbconvert_exporter": "python",
   "pygments_lexer": "ipython3",
   "version": "3.12.0"
  }
 },
 "nbformat": 4,
 "nbformat_minor": 2
}
