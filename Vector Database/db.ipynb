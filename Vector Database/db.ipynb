{
 "cells": [
  {
   "cell_type": "code",
   "execution_count": 1,
   "metadata": {},
   "outputs": [
    {
     "name": "stderr",
     "output_type": "stream",
     "text": [
      "c:\\Users\\anees\\Desktop\\Coding\\llmrepo\\train-LLAMA\\.venv\\Lib\\site-packages\\tqdm\\auto.py:21: TqdmWarning: IProgress not found. Please update jupyter and ipywidgets. See https://ipywidgets.readthedocs.io/en/stable/user_install.html\n",
      "  from .autonotebook import tqdm as notebook_tqdm\n"
     ]
    }
   ],
   "source": [
    "import chromadb\n",
    "import json\n",
    "from sentence_transformers import SentenceTransformer\n",
    "from chromadb.utils import embedding_functions\n",
    "import os"
   ]
  },
  {
   "cell_type": "code",
   "execution_count": 2,
   "metadata": {},
   "outputs": [],
   "source": [
    "persist_directory = \"chroma_db\""
   ]
  },
  {
   "cell_type": "code",
   "execution_count": 3,
   "metadata": {},
   "outputs": [],
   "source": [
    "if not os.path.exists(persist_directory):\n",
    "    os.makedirs(persist_directory)\n"
   ]
  },
  {
   "cell_type": "code",
   "execution_count": 4,
   "metadata": {},
   "outputs": [],
   "source": [
    "chroma_client = chromadb.PersistentClient(path=persist_directory)"
   ]
  },
  {
   "cell_type": "code",
   "execution_count": 5,
   "metadata": {},
   "outputs": [],
   "source": [
    "default_ef = embedding_functions.DefaultEmbeddingFunction()"
   ]
  },
  {
   "cell_type": "code",
   "execution_count": 6,
   "metadata": {},
   "outputs": [],
   "source": [
    "collection = chroma_client.get_or_create_collection(name=\"resume_data\", embedding_function=default_ef)\n"
   ]
  },
  {
   "cell_type": "code",
   "execution_count": 7,
   "metadata": {},
   "outputs": [],
   "source": [
    "with open(\"data.json\", \"r\") as f:\n",
    "    resume_data = json.load(f)"
   ]
  },
  {
   "cell_type": "code",
   "execution_count": 9,
   "metadata": {},
   "outputs": [],
   "source": [
    "def chunkMaker(data):\n",
    "    chunks = []\n",
    "    chunks.append(\n",
    "        {\n",
    "            \"id\": \"summary\",\n",
    "            \"content\": data[\"summary\"],\n",
    "            \"metadata\":{\n",
    "                \"section\": \"summary\",\n",
    "                \"title\": \"Summary\"\n",
    "            }\n",
    "        }\n",
    "    )\n",
    "    chunks.append({\n",
    "        \"id\":\"contact\",\n",
    "        \"content\": f\" I am {data['contact']['name']}, my github id is {data['contact']['github']} and my email is {data['contact']['email']}, my linkedin is {data['contact']['linkedin']} my leetcode where i practice my Data structures and algorithms is {data['contact']['leetcode']}\",\n",
    "        \"metadata\":{\n",
    "            \"section\": \"contact\"\n",
    "\n",
    "        }\n",
    "            \n",
    "    })\n",
    "    for edu in resume_data['education']:\n",
    "        key = edu['institution'].lower().replace(\" \", \"_\")\n",
    "        chunks.append({\n",
    "            \"id\": f\"education_{key}\",\n",
    "            \"content\": f\"I {'am pursuing' if '2025' in edu['duration'] else 'completed'} {edu['degree']} from {edu['institution']} in {edu['location']} ({edu['duration']}). {edu['details']}\",\n",
    "            \"metadata\":{\n",
    "                \"section\": \"education\",\n",
    "                \"title\": edu['institution'],\n",
    "            }\n",
    "\n",
    "        })\n",
    "    chunks.append({\n",
    "        \"id\":\"skills_technical\",\n",
    "        \"content\" : f\"my technical skills include {\", \".join(resume_data['skills']['technical_skills'])}\",\n",
    "        \"metadata\":{\n",
    "            \"section\": \"skills\",\n",
    "            \"title\": \"Technical Skills\"\n",
    "        }\n",
    "    })\n",
    "    chunks.append({\n",
    "        \"id\":\"skills_soft\",\n",
    "        \"content\" : f\"my soft skills include {\", \".join(resume_data['skills']['soft_skills'])}\",\n",
    "        \"metadata\":{\n",
    "            \"section\": \"skills\",\n",
    "            \"title\": \"soft Skills\"\n",
    "        }\n",
    "    })\n",
    "    for project in resume_data[\"projects\"]:\n",
    "        key = project['title'].lower().replace(\" \", \"_\")\n",
    "        chunks.append({\n",
    "            \"id\": f\"project_{key}\",\n",
    "            \"content\":f\"Project {project['title']} ({project['duration']}). {\", \".join(project['description'])} skills: {', '.join(project['skills'])} links: {', '.join(project['links'])}\",\n",
    "            \"metadata\":{\n",
    "                \"section\": \"projects\",\n",
    "                \"title\": project['title'],\n",
    "\n",
    "            }\n",
    "        })\n",
    "    for cert in resume_data['certifications']:\n",
    "        cert_key = cert['title'].lower().replace(' ', '_')\n",
    "        chunks.append({\n",
    "            \"id\": f\"certification_{cert_key}\",  # e.g., \"certification_machine_learning_specialist\"\n",
    "            \"content\": f\"I earned {cert['title']} certification from {cert['issuing_organization']} in {cert['date_awarded']}\",\n",
    "            \"metadata\": {\n",
    "                \"section\": \"certifications\",\n",
    "                \"title\": cert['title']\n",
    "            }\n",
    "        })\n",
    "    return chunks\n",
    "        "
   ]
  },
  {
   "cell_type": "code",
   "execution_count": 12,
   "metadata": {},
   "outputs": [],
   "source": [
    "chunks = chunkMaker(resume_data)"
   ]
  },
  {
   "cell_type": "code",
   "execution_count": 10,
   "metadata": {},
   "outputs": [],
   "source": [
    "val = default_ef([\"foo\"])"
   ]
  },
  {
   "cell_type": "code",
   "execution_count": 14,
   "metadata": {},
   "outputs": [],
   "source": [
    "ids = []\n",
    "documents = []\n",
    "metadatas = []\n",
    "\n",
    "for chunk in chunks:\n",
    "    ids.append(chunk[\"id\"])\n",
    "    documents.append(chunk[\"content\"])\n",
    "    metadatas.append(chunk[\"metadata\"])"
   ]
  },
  {
   "cell_type": "code",
   "execution_count": 15,
   "metadata": {},
   "outputs": [],
   "source": [
    "collection.upsert(ids=ids, documents=documents, metadatas=metadatas)"
   ]
  },
  {
   "cell_type": "code",
   "execution_count": 16,
   "metadata": {},
   "outputs": [
    {
     "data": {
      "text/plain": [
       "{'ids': [['summary',\n",
       "   'contact',\n",
       "   'certification_full_stack_web_development',\n",
       "   'project_t.rex:_electronics_circuits_game']],\n",
       " 'embeddings': None,\n",
       " 'documents': [['A dedicated Electronics and Telecommunication professional with a strong background in machine learning, web development, and cloud platforms. Proven ability to lead projects, solve complex problems, and continuously learn new technologies to drive innovation and efficiency.',\n",
       "   ' I am Aneesh Patne, my github id is https://github.com/aneeshpatne and my email is aneeshpatne12@gmail.com, my linkedin is https://www.linkedin.com/in/aneeshpatne my leetcode where i practice my Data structures and algorithms is https://leetcode.com/aneeshpatne',\n",
       "   'I earned Full Stack Web Development certification from Udemy in April 2022',\n",
       "   \"Project T.rex: Electronics Circuits Game (Nov 2022 - Dec 2022). - A basic HTML/JS game intended to test the basic knowledge of the player regarding the basics of FET., - During the teaching-learning process, it is paramount to know whether the student is learning what the teacher intends to., - The game focuses on testing the students' knowledge about FET (Field Effect Transistor), named 'T.rex' to acknowledge the dinosaur character inspired by the Chrome offline game and the subject matter. skills: HTML, JavaScript, Cascading Style Sheets (CSS), Git, Web Development links: GitHub\"]],\n",
       " 'uris': None,\n",
       " 'data': None,\n",
       " 'metadatas': [[{'section': 'summary', 'title': 'Summary'},\n",
       "   {'section': 'contact'},\n",
       "   {'section': 'certifications', 'title': 'Full Stack Web Development'},\n",
       "   {'section': 'projects', 'title': 'T.rex: Electronics Circuits Game'}]],\n",
       " 'distances': [[1.3966284272195693,\n",
       "   1.4191370760107316,\n",
       "   1.4262697701968927,\n",
       "   1.474061053944295]],\n",
       " 'included': [<IncludeEnum.distances: 'distances'>,\n",
       "  <IncludeEnum.documents: 'documents'>,\n",
       "  <IncludeEnum.metadatas: 'metadatas'>]}"
      ]
     },
     "execution_count": 16,
     "metadata": {},
     "output_type": "execute_result"
    }
   ],
   "source": [
    "collection.query(query_texts=\"What is Aneesh Patne Education\", n_results=4)"
   ]
  }
 ],
 "metadata": {
  "kernelspec": {
   "display_name": ".venv",
   "language": "python",
   "name": "python3"
  },
  "language_info": {
   "codemirror_mode": {
    "name": "ipython",
    "version": 3
   },
   "file_extension": ".py",
   "mimetype": "text/x-python",
   "name": "python",
   "nbconvert_exporter": "python",
   "pygments_lexer": "ipython3",
   "version": "3.12.0"
  }
 },
 "nbformat": 4,
 "nbformat_minor": 2
}
